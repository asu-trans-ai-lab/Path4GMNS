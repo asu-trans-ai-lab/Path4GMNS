{
  "nbformat": 4,
  "nbformat_minor": 0,
  "metadata": {
    "colab": {
      "name": "Testing_Lima.ipynb",
      "provenance": [],
      "authorship_tag": "ABX9TyP+OYseqxcArXTW6BqJSqz+",
      "include_colab_link": true
    },
    "kernelspec": {
      "name": "python3",
      "display_name": "Python 3"
    },
    "language_info": {
      "name": "python"
    }
  },
  "cells": [
    {
      "cell_type": "markdown",
      "metadata": {
        "id": "view-in-github",
        "colab_type": "text"
      },
      "source": [
        "<a href=\"https://colab.research.google.com/github/asu-trans-ai-lab/Path4GMNS/blob/master/Testing_Lima.ipynb\" target=\"_parent\"><img src=\"https://colab.research.google.com/assets/colab-badge.svg\" alt=\"Open In Colab\"/></a>"
      ]
    },
    {
      "cell_type": "markdown",
      "metadata": {
        "id": "1pzqvR2I5eNm"
      },
      "source": [
        "load node and link and demand file based on path2gmns data sets"
      ]
    },
    {
      "cell_type": "code",
      "metadata": {
        "colab": {
          "base_uri": "https://localhost:8080/"
        },
        "id": "Uqb6S1osaanu",
        "outputId": "ef5bf715-075f-4db1-a770-f3fb8cade8c0"
      },
      "source": [
        "\"Clone the Github repository\"\n",
        "\n",
        "!git clone https://github.com/asu-trans-ai-lab/Path4GMNS\n",
        "\n"
      ],
      "execution_count": 12,
      "outputs": [
        {
          "output_type": "stream",
          "text": [
            "fatal: destination path 'Path4GMNS' already exists and is not an empty directory.\n"
          ],
          "name": "stdout"
        }
      ]
    },
    {
      "cell_type": "code",
      "metadata": {
        "colab": {
          "base_uri": "https://localhost:8080/"
        },
        "id": "w2mSwsou585V",
        "outputId": "f319be5a-19a4-47d8-e800-3d4cb297249d"
      },
      "source": [
        "!pip install path4gmns"
      ],
      "execution_count": 10,
      "outputs": [
        {
          "output_type": "stream",
          "text": [
            "Requirement already satisfied: path4gmns in /usr/local/lib/python3.7/dist-packages (0.6.0)\n"
          ],
          "name": "stdout"
        }
      ]
    },
    {
      "cell_type": "code",
      "metadata": {
        "colab": {
          "base_uri": "https://localhost:8080/"
        },
        "id": "eR7jZbkA6EAv",
        "outputId": "8694226d-af1d-44ef-9134-9a258e4912c5"
      },
      "source": [
        "%cd path4gmns/dataset/01_two_corridor\n",
        "\n",
        "import path4gmns as pg\n",
        "\n",
        "\n",
        "\n",
        "load_demand = False\n",
        "network = pg.read_network(load_demand)\n",
        "\n",
        "print('\\nshortest path (node id) from node 1 to node 2 is '\n",
        "      +network.find_shortest_path(1, 2))\n",
        "print('\\nshortest path (link id) from node 1 to node 2 is '\n",
        "      +network.find_shortest_path(1, 2, 'link'))"
      ],
      "execution_count": 6,
      "outputs": [
        {
          "output_type": "stream",
          "text": [
            "[Errno 2] No such file or directory: 'path4gmns/dataset/01_two_corridor'\n",
            "/content/DTALite/dataset/05_Chicago_Sketch\n",
            "read node.csv\n",
            "the number of nodes is 933\n",
            "read link.csv\n",
            "the number of links is 2950\n",
            "\n",
            "shortest path (node id) from node 1 to node 2 is 1;547;548;2\n",
            "\n",
            "shortest path (link id) from node 1 to node 2 is 1;547;548;2\n"
          ],
          "name": "stdout"
        }
      ]
    },
    {
      "cell_type": "code",
      "metadata": {
        "id": "OQaIocbA6Zr5",
        "colab": {
          "base_uri": "https://localhost:8080/"
        },
        "outputId": "c2a058e2-2c66-4f3c-adb6-2df7231f0a52"
      },
      "source": [
        "mode = 1\n",
        "assignment_num = 10\n",
        "column_update_num = 10\n",
        "\n",
        "pg.perform_network_assignment_DTALite(1, assignment_num, column_update_num)\n",
        "\n",
        "# no need to call output_columns() and output_link_performance() \n",
        "# as the python module since outputs will be processed within DTALite\n",
        "\n",
        "print('\\npath finding results can be found in agent.csv')"
      ],
      "execution_count": null,
      "outputs": [
        {
          "output_type": "stream",
          "text": [
            "\n",
            "DTALite run starts\n",
            "\n",
            "DTALite run completes\n",
            "\n",
            "path finding results can be found in agent.csv\n"
          ],
          "name": "stdout"
        }
      ]
    },
    {
      "cell_type": "code",
      "metadata": {
        "colab": {
          "base_uri": "https://localhost:8080/",
          "height": 262
        },
        "id": "9oJVavGGb1b_",
        "outputId": "47fc5d62-3933-4a35-dac4-4ded63e38ff1"
      },
      "source": [
        "%cd path4gmns/dataset/08_Lima_network\n",
        "%cd path4gmns/dataset/05_Chicago_Sketch\n",
        "mode = 1\n",
        "assignment_num = 5\n",
        "column_update_num = 3\n",
        "\n",
        "pg.perform_network_assignment_DTALite(1, assignment_num, column_update_num)\n",
        "\n",
        "# no need to call output_columns() and output_link_performance() \n",
        "# as the python module since outputs will be processed within DTALite\n",
        "\n",
        "print('\\npath finding results can be found in agent.csv')"
      ],
      "execution_count": null,
      "outputs": [
        {
          "output_type": "stream",
          "text": [
            "[Errno 2] No such file or directory: 'DTALite/dataset/05_Chicago_Sketch'\n",
            "/content/DTALite/dataset/05_Chicago_Sketch\n"
          ],
          "name": "stdout"
        },
        {
          "output_type": "error",
          "ename": "NameError",
          "evalue": "ignored",
          "traceback": [
            "\u001b[0;31m---------------------------------------------------------------------------\u001b[0m",
            "\u001b[0;31mNameError\u001b[0m                                 Traceback (most recent call last)",
            "\u001b[0;32m<ipython-input-2-c85c9ec8490e>\u001b[0m in \u001b[0;36m<module>\u001b[0;34m()\u001b[0m\n\u001b[1;32m      4\u001b[0m \u001b[0mcolumn_update_num\u001b[0m \u001b[0;34m=\u001b[0m \u001b[0;36m3\u001b[0m\u001b[0;34m\u001b[0m\u001b[0;34m\u001b[0m\u001b[0m\n\u001b[1;32m      5\u001b[0m \u001b[0;34m\u001b[0m\u001b[0m\n\u001b[0;32m----> 6\u001b[0;31m \u001b[0mpg\u001b[0m\u001b[0;34m.\u001b[0m\u001b[0mperform_network_assignment_DTALite\u001b[0m\u001b[0;34m(\u001b[0m\u001b[0;36m1\u001b[0m\u001b[0;34m,\u001b[0m \u001b[0massignment_num\u001b[0m\u001b[0;34m,\u001b[0m \u001b[0mcolumn_update_num\u001b[0m\u001b[0;34m)\u001b[0m\u001b[0;34m\u001b[0m\u001b[0;34m\u001b[0m\u001b[0m\n\u001b[0m\u001b[1;32m      7\u001b[0m \u001b[0;34m\u001b[0m\u001b[0m\n\u001b[1;32m      8\u001b[0m \u001b[0;31m# no need to call output_columns() and output_link_performance()\u001b[0m\u001b[0;34m\u001b[0m\u001b[0;34m\u001b[0m\u001b[0;34m\u001b[0m\u001b[0m\n",
            "\u001b[0;31mNameError\u001b[0m: name 'pg' is not defined"
          ]
        }
      ]
    },
    {
      "cell_type": "markdown",
      "metadata": {
        "id": "p1i4AwYN5dp9"
      },
      "source": [
        ""
      ]
    }
  ]
}