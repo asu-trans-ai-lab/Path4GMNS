{
  "nbformat": 4,
  "nbformat_minor": 0,
  "metadata": {
    "colab": {
      "name": "Testing_Lima.ipynb",
      "provenance": [],
      "authorship_tag": "ABX9TyOrDwU+SDMxn++KycvLJz/X",
      "include_colab_link": true
    },
    "kernelspec": {
      "name": "python3",
      "display_name": "Python 3"
    },
    "language_info": {
      "name": "python"
    }
  },
  "cells": [
    {
      "cell_type": "markdown",
      "metadata": {
        "id": "view-in-github",
        "colab_type": "text"
      },
      "source": [
        "<a href=\"https://colab.research.google.com/github/asu-trans-ai-lab/Path4GMNS/blob/master/Testing_Lima.ipynb\" target=\"_parent\"><img src=\"https://colab.research.google.com/assets/colab-badge.svg\" alt=\"Open In Colab\"/></a>"
      ]
    },
    {
      "cell_type": "markdown",
      "metadata": {
        "id": "1pzqvR2I5eNm"
      },
      "source": [
        "load node and link and demand file based on lima data set at https://github.com/asu-trans-ai-lab/DTALite/tree/main/dataset/08_Lima_network"
      ]
    },
    {
      "cell_type": "code",
      "metadata": {
        "colab": {
          "base_uri": "https://localhost:8080/"
        },
        "id": "Uqb6S1osaanu",
        "outputId": "1f002e1d-2ba5-44b9-cfff-83d7398c5a55"
      },
      "source": [
        "\"Clone the Github repository\"\n",
        "\n",
        "!git clone https://github.com/asu-trans-ai-lab/Path4GMNS\n",
        "\n"
      ],
      "execution_count": 3,
      "outputs": [
        {
          "output_type": "stream",
          "text": [
            "Cloning into 'DTALite'...\n",
            "remote: Enumerating objects: 36, done.\u001b[K\n",
            "remote: Counting objects: 100% (36/36), done.\u001b[K\n",
            "remote: Compressing objects: 100% (31/31), done.\u001b[K\n",
            "remote: Total 1132 (delta 8), reused 29 (delta 5), pack-reused 1096\u001b[K\n",
            "Receiving objects: 100% (1132/1132), 144.13 MiB | 22.95 MiB/s, done.\n",
            "Resolving deltas: 100% (260/260), done.\n",
            "Checking out files: 100% (637/637), done.\n",
            "/content/DTALite/dataset/08_Lima_network\n"
          ],
          "name": "stdout"
        }
      ]
    },
    {
      "cell_type": "code",
      "metadata": {
        "colab": {
          "base_uri": "https://localhost:8080/"
        },
        "id": "w2mSwsou585V",
        "outputId": "2269668f-2d29-4b48-d7aa-5bc2e59869cf"
      },
      "source": [
        "!pip install path4gmns"
      ],
      "execution_count": 4,
      "outputs": [
        {
          "output_type": "stream",
          "text": [
            "Collecting path4gmns\n",
            "\u001b[?25l  Downloading https://files.pythonhosted.org/packages/e5/94/a13dbe8095858397a03530f43d03a7dc6fb8664b0526072084a2a54c5ac8/path4gmns-0.6.0-py3-none-any.whl (319kB)\n",
            "\r\u001b[K     |█                               | 10kB 14.9MB/s eta 0:00:01\r\u001b[K     |██                              | 20kB 21.3MB/s eta 0:00:01\r\u001b[K     |███                             | 30kB 16.4MB/s eta 0:00:01\r\u001b[K     |████                            | 40kB 17.0MB/s eta 0:00:01\r\u001b[K     |█████▏                          | 51kB 18.9MB/s eta 0:00:01\r\u001b[K     |██████▏                         | 61kB 16.4MB/s eta 0:00:01\r\u001b[K     |███████▏                        | 71kB 12.8MB/s eta 0:00:01\r\u001b[K     |████████▏                       | 81kB 13.7MB/s eta 0:00:01\r\u001b[K     |█████████▏                      | 92kB 13.7MB/s eta 0:00:01\r\u001b[K     |██████████▎                     | 102kB 13.6MB/s eta 0:00:01\r\u001b[K     |███████████▎                    | 112kB 13.6MB/s eta 0:00:01\r\u001b[K     |████████████▎                   | 122kB 13.6MB/s eta 0:00:01\r\u001b[K     |█████████████▎                  | 133kB 13.6MB/s eta 0:00:01\r\u001b[K     |██████████████▍                 | 143kB 13.6MB/s eta 0:00:01\r\u001b[K     |███████████████▍                | 153kB 13.6MB/s eta 0:00:01\r\u001b[K     |████████████████▍               | 163kB 13.6MB/s eta 0:00:01\r\u001b[K     |█████████████████▍              | 174kB 13.6MB/s eta 0:00:01\r\u001b[K     |██████████████████▍             | 184kB 13.6MB/s eta 0:00:01\r\u001b[K     |███████████████████▌            | 194kB 13.6MB/s eta 0:00:01\r\u001b[K     |████████████████████▌           | 204kB 13.6MB/s eta 0:00:01\r\u001b[K     |█████████████████████▌          | 215kB 13.6MB/s eta 0:00:01\r\u001b[K     |██████████████████████▌         | 225kB 13.6MB/s eta 0:00:01\r\u001b[K     |███████████████████████▋        | 235kB 13.6MB/s eta 0:00:01\r\u001b[K     |████████████████████████▋       | 245kB 13.6MB/s eta 0:00:01\r\u001b[K     |█████████████████████████▋      | 256kB 13.6MB/s eta 0:00:01\r\u001b[K     |██████████████████████████▋     | 266kB 13.6MB/s eta 0:00:01\r\u001b[K     |███████████████████████████▋    | 276kB 13.6MB/s eta 0:00:01\r\u001b[K     |████████████████████████████▊   | 286kB 13.6MB/s eta 0:00:01\r\u001b[K     |█████████████████████████████▊  | 296kB 13.6MB/s eta 0:00:01\r\u001b[K     |██████████████████████████████▊ | 307kB 13.6MB/s eta 0:00:01\r\u001b[K     |███████████████████████████████▊| 317kB 13.6MB/s eta 0:00:01\r\u001b[K     |████████████████████████████████| 327kB 13.6MB/s \n",
            "\u001b[?25hInstalling collected packages: path4gmns\n",
            "Successfully installed path4gmns-0.6.0\n"
          ],
          "name": "stdout"
        }
      ]
    },
    {
      "cell_type": "code",
      "metadata": {
        "colab": {
          "base_uri": "https://localhost:8080/"
        },
        "id": "eR7jZbkA6EAv",
        "outputId": "254f1b7a-c55d-4aec-ecb1-616f67c8dc86"
      },
      "source": [
        "%cd DTALite/dataset/01_two_corridor\n",
        "\n",
        "import path4gmns as pg\n",
        "\n",
        "\n",
        "\n",
        "load_demand = False\n",
        "network = pg.read_network(load_demand)\n",
        "\n",
        "print('\\nshortest path (node id) from node 1 to node 2 is '\n",
        "      +network.find_shortest_path(1, 2))\n",
        "print('\\nshortest path (link id) from node 1 to node 2 is '\n",
        "      +network.find_shortest_path(1, 2, 'link'))"
      ],
      "execution_count": 5,
      "outputs": [
        {
          "output_type": "stream",
          "text": [
            "path4gmns, version 0.6.0\n",
            "read node.csv\n",
            "the number of nodes is 2232\n",
            "read link.csv\n",
            "the number of links is 6095\n",
            "\n",
            "shortest path (node id) from node 1 to node 2 is 1;101997;2\n",
            "\n",
            "shortest path (link id) from node 1 to node 2 is 1;101997;2\n"
          ],
          "name": "stdout"
        }
      ]
    },
    {
      "cell_type": "code",
      "metadata": {
        "id": "OQaIocbA6Zr5",
        "colab": {
          "base_uri": "https://localhost:8080/"
        },
        "outputId": "c2a058e2-2c66-4f3c-adb6-2df7231f0a52"
      },
      "source": [
        "mode = 1\n",
        "assignment_num = 10\n",
        "column_update_num = 10\n",
        "\n",
        "pg.perform_network_assignment_DTALite(1, assignment_num, column_update_num)\n",
        "\n",
        "# no need to call output_columns() and output_link_performance() \n",
        "# as the python module since outputs will be processed within DTALite\n",
        "\n",
        "print('\\npath finding results can be found in agent.csv')"
      ],
      "execution_count": 6,
      "outputs": [
        {
          "output_type": "stream",
          "text": [
            "\n",
            "DTALite run starts\n",
            "\n",
            "DTALite run completes\n",
            "\n",
            "path finding results can be found in agent.csv\n"
          ],
          "name": "stdout"
        }
      ]
    },
    {
      "cell_type": "code",
      "metadata": {
        "colab": {
          "base_uri": "https://localhost:8080/",
          "height": 262
        },
        "id": "9oJVavGGb1b_",
        "outputId": "47fc5d62-3933-4a35-dac4-4ded63e38ff1"
      },
      "source": [
        "%cd DTALite/dataset/08_Lima_network\n",
        "%cd DTALite/dataset/05_Chicago_Sketch\n",
        "mode = 1\n",
        "assignment_num = 5\n",
        "column_update_num = 3\n",
        "\n",
        "pg.perform_network_assignment_DTALite(1, assignment_num, column_update_num)\n",
        "\n",
        "# no need to call output_columns() and output_link_performance() \n",
        "# as the python module since outputs will be processed within DTALite\n",
        "\n",
        "print('\\npath finding results can be found in agent.csv')"
      ],
      "execution_count": 2,
      "outputs": [
        {
          "output_type": "stream",
          "text": [
            "[Errno 2] No such file or directory: 'DTALite/dataset/05_Chicago_Sketch'\n",
            "/content/DTALite/dataset/05_Chicago_Sketch\n"
          ],
          "name": "stdout"
        },
        {
          "output_type": "error",
          "ename": "NameError",
          "evalue": "ignored",
          "traceback": [
            "\u001b[0;31m---------------------------------------------------------------------------\u001b[0m",
            "\u001b[0;31mNameError\u001b[0m                                 Traceback (most recent call last)",
            "\u001b[0;32m<ipython-input-2-c85c9ec8490e>\u001b[0m in \u001b[0;36m<module>\u001b[0;34m()\u001b[0m\n\u001b[1;32m      4\u001b[0m \u001b[0mcolumn_update_num\u001b[0m \u001b[0;34m=\u001b[0m \u001b[0;36m3\u001b[0m\u001b[0;34m\u001b[0m\u001b[0;34m\u001b[0m\u001b[0m\n\u001b[1;32m      5\u001b[0m \u001b[0;34m\u001b[0m\u001b[0m\n\u001b[0;32m----> 6\u001b[0;31m \u001b[0mpg\u001b[0m\u001b[0;34m.\u001b[0m\u001b[0mperform_network_assignment_DTALite\u001b[0m\u001b[0;34m(\u001b[0m\u001b[0;36m1\u001b[0m\u001b[0;34m,\u001b[0m \u001b[0massignment_num\u001b[0m\u001b[0;34m,\u001b[0m \u001b[0mcolumn_update_num\u001b[0m\u001b[0;34m)\u001b[0m\u001b[0;34m\u001b[0m\u001b[0;34m\u001b[0m\u001b[0m\n\u001b[0m\u001b[1;32m      7\u001b[0m \u001b[0;34m\u001b[0m\u001b[0m\n\u001b[1;32m      8\u001b[0m \u001b[0;31m# no need to call output_columns() and output_link_performance()\u001b[0m\u001b[0;34m\u001b[0m\u001b[0;34m\u001b[0m\u001b[0;34m\u001b[0m\u001b[0m\n",
            "\u001b[0;31mNameError\u001b[0m: name 'pg' is not defined"
          ]
        }
      ]
    },
    {
      "cell_type": "markdown",
      "metadata": {
        "id": "p1i4AwYN5dp9"
      },
      "source": [
        ""
      ]
    }
  ]
}