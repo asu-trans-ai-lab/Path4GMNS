{
  "nbformat": 4,
  "nbformat_minor": 0,
  "metadata": {
    "colab": {
      "name": "path4gmns.ipynb",
      "provenance": [],
      "toc_visible": true,
      "include_colab_link": true
    },
    "kernelspec": {
      "name": "python3",
      "display_name": "Python 3"
    },
    "language_info": {
      "name": "python"
    }
  },
  "cells": [
    {
      "cell_type": "markdown",
      "metadata": {
        "id": "view-in-github",
        "colab_type": "text"
      },
      "source": [
        "<a href=\"https://colab.research.google.com/github/asu-trans-ai-lab/Path4GMNS/blob/master/path4gmns_bug_report.ipynb\" target=\"_parent\"><img src=\"https://colab.research.google.com/assets/colab-badge.svg\" alt=\"Open In Colab\"/></a>"
      ]
    },
    {
      "cell_type": "markdown",
      "metadata": {
        "id": "egCYvfC1z5Ru"
      },
      "source": [
        "# **Path4GMNS**\n",
        "\n",
        "Path4GMNS is an open-source, lightweight, and fast Python path engine for networks encoded in GMNS. Besides finding the static and time-dependent shortest path for simple analyses, its main functionality is to provide an efficient and flexible framework for column(path)-based modeling/application frameworks in transportations (e.g., activity-based demand modeling)."
      ]
    },
    {
      "cell_type": "code",
      "metadata": {
        "id": "BvQ86ocf-FSA",
        "colab": {
          "base_uri": "https://localhost:8080/"
        },
        "outputId": "e3058c4c-d90c-4e8b-c760-96d989d4c11c"
      },
      "source": [
        "\"\"\"install path4gmns\"\"\"\n",
        "!pip install path4gmns --upgrade\n",
        "\"\"\"import package\"\"\"\n",
        "import path4gmns as pg \n",
        "import pandas as pd\n",
        "from time import time"
      ],
      "execution_count": 1,
      "outputs": [
        {
          "output_type": "stream",
          "name": "stdout",
          "text": [
            "Looking in indexes: https://pypi.org/simple, https://us-python.pkg.dev/colab-wheels/public/simple/\n",
            "Collecting path4gmns\n",
            "  Downloading path4gmns-0.8.7-py3-none-any.whl (1.2 MB)\n",
            "\u001b[2K     \u001b[90m━━━━━━━━━━━━━━━━━━━━━━━━━━━━━━━━━━━━━━━━\u001b[0m \u001b[32m1.2/1.2 MB\u001b[0m \u001b[31m14.8 MB/s\u001b[0m eta \u001b[36m0:00:00\u001b[0m\n",
            "\u001b[?25hInstalling collected packages: path4gmns\n",
            "Successfully installed path4gmns-0.8.7\n",
            "path4gmns, version 0.8.7\n"
          ]
        }
      ]
    },
    {
      "cell_type": "markdown",
      "metadata": {
        "id": "QjPHwuFLXuYy"
      },
      "source": [
        "## 1. Import network data #\n",
        "\n"
      ]
    },
    {
      "cell_type": "code",
      "metadata": {
        "id": "6YNvXlaEpWpq",
        "outputId": "4cb5c51c-c604-4a33-f4a8-8a2558a04566",
        "colab": {
          "base_uri": "https://localhost:8080/"
        }
      },
      "source": [
        "\"Clone the Github repository\"\n",
        "\n",
        "!git clone https://github.com/asu-trans-ai-lab/Path4GMNS \n",
        "\n",
        "%cd Path4GMNS/dataset/05_Chicago_Sketch\n",
        "\n"
      ],
      "execution_count": 2,
      "outputs": [
        {
          "output_type": "stream",
          "name": "stdout",
          "text": [
            "Cloning into 'Path4GMNS'...\n",
            "remote: Enumerating objects: 172, done.\u001b[K\n",
            "remote: Counting objects: 100% (22/22), done.\u001b[K\n",
            "remote: Compressing objects: 100% (14/14), done.\u001b[K\n",
            "remote: Total 172 (delta 9), reused 11 (delta 8), pack-reused 150\u001b[K\n",
            "Receiving objects: 100% (172/172), 7.87 MiB | 6.74 MiB/s, done.\n",
            "Resolving deltas: 100% (50/50), done.\n",
            "/content/Path4GMNS/dataset/05_Chicago_Sketch\n"
          ]
        }
      ]
    },
    {
      "cell_type": "markdown",
      "metadata": {
        "id": "Hg1eOa1Y9P2k"
      },
      "source": [
        "## 2. Path4GMNS modeling\n",
        "\n",
        "\n"
      ]
    },
    {
      "cell_type": "markdown",
      "metadata": {
        "id": "w3DHeZ7i6EF8"
      },
      "source": [
        "Mode 1: finding single-pair shortest path"
      ]
    },
    {
      "cell_type": "code",
      "metadata": {
        "id": "KOUennxk5vFT",
        "colab": {
          "base_uri": "https://localhost:8080/",
          "height": 370
        },
        "outputId": "121a4cec-3b73-4bfc-e7b1-38883ba45a38"
      },
      "source": [
        "import path4gmns as pg\n",
        "\n",
        "load_demand = False\n",
        "network = pg.read_network(load_demand)\n",
        "\n",
        "print('\\nshortest path (node id) from node 1 to node 2 is '\n",
        "      +network.find_shortest_path(1, 2))\n",
        "print('\\nshortest path (link id) from node 1 to node 2 is '\n",
        "      +network.find_shortest_path(1, 2, 'link'))"
      ],
      "execution_count": 3,
      "outputs": [
        {
          "output_type": "error",
          "ename": "Exception",
          "evalue": "ignored",
          "traceback": [
            "\u001b[0;31m---------------------------------------------------------------------------\u001b[0m",
            "\u001b[0;31mException\u001b[0m                                 Traceback (most recent call last)",
            "\u001b[0;32m<ipython-input-3-44151c55af68>\u001b[0m in \u001b[0;36m<module>\u001b[0;34m\u001b[0m\n\u001b[1;32m      2\u001b[0m \u001b[0;34m\u001b[0m\u001b[0m\n\u001b[1;32m      3\u001b[0m \u001b[0mload_demand\u001b[0m \u001b[0;34m=\u001b[0m \u001b[0;32mFalse\u001b[0m\u001b[0;34m\u001b[0m\u001b[0;34m\u001b[0m\u001b[0m\n\u001b[0;32m----> 4\u001b[0;31m \u001b[0mnetwork\u001b[0m \u001b[0;34m=\u001b[0m \u001b[0mpg\u001b[0m\u001b[0;34m.\u001b[0m\u001b[0mread_network\u001b[0m\u001b[0;34m(\u001b[0m\u001b[0mload_demand\u001b[0m\u001b[0;34m)\u001b[0m\u001b[0;34m\u001b[0m\u001b[0;34m\u001b[0m\u001b[0m\n\u001b[0m\u001b[1;32m      5\u001b[0m \u001b[0;34m\u001b[0m\u001b[0m\n\u001b[1;32m      6\u001b[0m print('\\nshortest path (node id) from node 1 to node 2 is '\n",
            "\u001b[0;32m/usr/local/lib/python3.8/dist-packages/path4gmns/utils.py\u001b[0m in \u001b[0;36mread_network\u001b[0;34m(length_unit, speed_unit, load_demand, input_dir)\u001b[0m\n\u001b[1;32m    877\u001b[0m     \u001b[0;32mif\u001b[0m \u001b[0mlength_unit\u001b[0m \u001b[0;32mnot\u001b[0m \u001b[0;32min\u001b[0m \u001b[0mlen_units\u001b[0m\u001b[0;34m:\u001b[0m\u001b[0;34m\u001b[0m\u001b[0;34m\u001b[0m\u001b[0m\n\u001b[1;32m    878\u001b[0m         \u001b[0munits\u001b[0m \u001b[0;34m=\u001b[0m \u001b[0;34m', '\u001b[0m\u001b[0;34m.\u001b[0m\u001b[0mjoin\u001b[0m\u001b[0;34m(\u001b[0m\u001b[0mlen_units\u001b[0m\u001b[0;34m)\u001b[0m\u001b[0;34m\u001b[0m\u001b[0;34m\u001b[0m\u001b[0m\n\u001b[0;32m--> 879\u001b[0;31m         raise Exception(\n\u001b[0m\u001b[1;32m    880\u001b[0m             \u001b[0;34mf'Invalid length unit: {length_unit} !'\u001b[0m\u001b[0;34m\u001b[0m\u001b[0;34m\u001b[0m\u001b[0m\n\u001b[1;32m    881\u001b[0m             \u001b[0;34mf' Please choose one available unit from {units}'\u001b[0m\u001b[0;34m\u001b[0m\u001b[0;34m\u001b[0m\u001b[0m\n",
            "\u001b[0;31mException\u001b[0m: Invalid length unit: False ! Please choose one available unit from kilometer, km, meter, m, mile, mi"
          ]
        }
      ]
    },
    {
      "cell_type": "markdown",
      "metadata": {
        "id": "XMSLOiwn5PUu"
      },
      "source": [
        "Mode 2: shortest paths for all agents (to be tested as a change of function names in the recent release)."
      ]
    },
    {
      "cell_type": "code",
      "metadata": {
        "id": "-jh1tVdN5NVY",
        "colab": {
          "base_uri": "https://localhost:8080/"
        },
        "outputId": "a40fabd6-fb47-45f6-a0fc-9b679c3c5e9d"
      },
      "source": [
        "import path4gmns as pg\n",
        "\n",
        "network = pg.read_network()\n",
        "network.find_path_for_agents()\n",
        "\n",
        "agent_id = 300\n",
        "print('\\norigin node id of agent is '\n",
        "      +str(network.get_agent_orig_node_id(agent_id)))\n",
        "\n",
        "print('destination node id of agent is '\n",
        "      +str(network.get_agent_dest_node_id(agent_id)))\n",
        "\n",
        "print('shortest path (node id) of agent is ' \n",
        "      +str(network.get_agent_node_path(agent_id)))\n",
        "\n",
        "print('shortest path (link id) of agent is ' \n",
        "      +str(network.get_agent_link_path(agent_id)))\n",
        "\n",
        "agent_id = 1000\n",
        "print('\\norigin node id of agent is '\n",
        "      +str(network.get_agent_orig_node_id(agent_id)))\n",
        "\n",
        "print('destination node id of agent is '\n",
        "      +str(network.get_agent_dest_node_id(agent_id)))\n",
        "\n",
        "print('shortest path (node id) of agent is ' \n",
        "      +str(network.get_agent_node_path(agent_id)))\n",
        "\n",
        "print('shortest path (link id) of agent is ' \n",
        "      +str(network.get_agent_link_path(agent_id)))"
      ],
      "execution_count": null,
      "outputs": [
        {
          "output_type": "stream",
          "text": [
            "Please provide settings.yml next time!\n",
            "Engine will set up one demand period and one agent type using default values for you, which might NOT reflect your case!\n",
            "\n",
            "read node.csv\n",
            "the number of nodes is 933\n",
            "the number of zones is 387\n",
            "read link.csv\n",
            "the number of links is 2950\n",
            "read demand.csv\n",
            "the number of agents is 1328348\n",
            "setting up individual agents\n",
            "the number of agents is 1328348\n",
            "\n",
            "origin node id of agent is 1\n",
            "destination node id of agent is 2\n",
            "shortest path (node id) of agent is distance: 3.06 | node path: 1;547;548;2\n",
            "shortest path (link id) of agent is distance: 3.06 | link path: 1;986;989\n",
            "\n",
            "origin node id of agent is 1\n",
            "destination node id of agent is 3\n",
            "shortest path (node id) of agent is distance: 4.11 | node path: 1;547;549;3\n",
            "shortest path (link id) of agent is distance: 4.11 | link path: 1;987;994\n"
          ],
          "name": "stdout"
        }
      ]
    },
    {
      "cell_type": "code",
      "metadata": {
        "id": "JTWWpRHpHJqh"
      },
      "source": [],
      "execution_count": null,
      "outputs": []
    },
    {
      "cell_type": "markdown",
      "metadata": {
        "id": "rLWCOBCN5l8L"
      },
      "source": [
        "Mode 3: column generation "
      ]
    },
    {
      "cell_type": "code",
      "metadata": {
        "id": "i_DF2X-BdNRX",
        "colab": {
          "base_uri": "https://localhost:8080/"
        },
        "outputId": "4395406e-4dd5-4bc6-caa4-90efbd6574ce"
      },
      "source": [
        "import path4gmns as pg\n",
        "\n",
        "network = pg.read_network()\n",
        "\n",
        "# path-based UE\n",
        "mode = 1\n",
        "assignment_num = 5\n",
        "column_update_num = 5\n",
        "\n",
        "pg.perform_network_assignment(mode, assignment_num, column_update_num, network)\n",
        "\n",
        "pg.output_columns(network)\n",
        "pg.output_link_performance(network)\n",
        "\n",
        "print('\\npath finding results can be found in agent.csv')"
      ],
      "execution_count": null,
      "outputs": [
        {
          "output_type": "stream",
          "text": [
            "Please provide settings.yml next time!\n",
            "Engine will set up one demand period and one agent type using default values for you, which might NOT reflect your case!\n",
            "\n",
            "read node.csv\n",
            "the number of nodes is 933\n",
            "the number of zones is 387\n",
            "read link.csv\n",
            "the number of links is 2950\n",
            "read demand.csv\n",
            "the number of agents is 1328348\n",
            "current iteration number in assignment: 0\n",
            "current iteration number in assignment: 1\n",
            "current iteration number in assignment: 2\n",
            "current iteration number in assignment: 3\n",
            "current iteration number in assignment: 4\n",
            "\n",
            "processing time of assignment: 12.62s\n",
            "\n",
            "current iteration number in column generation: 0\n",
            "total gap: 3716956.61\n",
            "current iteration number in column generation: 1\n",
            "total gap: 449495.43\n",
            "current iteration number in column generation: 2\n",
            "total gap: 231801.24\n",
            "current iteration number in column generation: 3\n",
            "total gap: 174854.57\n",
            "current iteration number in column generation: 4\n",
            "total gap: 148018.69\n",
            "\n",
            "path finding results can be found in agent.csv\n"
          ],
          "name": "stdout"
        }
      ]
    },
    {
      "cell_type": "markdown",
      "metadata": {
        "id": "AK63g7fB8Ywc"
      },
      "source": [
        "\n",
        "\n",
        "```\n",
        "# This is formatted as code\n",
        "```\n",
        "\n",
        "Mode 4 : DTALite "
      ]
    },
    {
      "cell_type": "code",
      "metadata": {
        "id": "WwW8lxv2_63D",
        "colab": {
          "base_uri": "https://localhost:8080/"
        },
        "outputId": "4b5d60b0-c1e7-4beb-dfe5-31318896ed1d"
      },
      "source": [
        "import path4gmns as pg\n",
        "\n",
        "# no need to call read_network() like the python module\n",
        "# as network and demand loading will be handled within DTALite\n",
        "\n",
        "# path-based UE\n",
        "mode = 1\n",
        "assignment_num = 2\n",
        "column_update_num = 2\n",
        "\n",
        "pg.perform_network_assignment_DTALite(1, assignment_num,\n",
        "                                      column_update_num)\n",
        "\n",
        "# no need to call output_columns() and output_link_performance() \n",
        "# as the python module since outputs will be processed within DTALite\n",
        "\n",
        "print('\\npath finding results can be found in agent.csv')"
      ],
      "execution_count": null,
      "outputs": [
        {
          "output_type": "stream",
          "text": [
            "\n",
            "DTALite run starts\n",
            "\n",
            "DTALite run completes\n",
            "\n",
            "path finding results can be found in agent.csv\n"
          ],
          "name": "stdout"
        }
      ]
    },
    {
      "cell_type": "markdown",
      "metadata": {
        "id": "8CNaiMG8bRgI"
      },
      "source": [
        "##3. Download files\n",
        "\n",
        "\n"
      ]
    },
    {
      "cell_type": "code",
      "metadata": {
        "id": "iWCCyORj8MVF",
        "colab": {
          "base_uri": "https://localhost:8080/"
        },
        "outputId": "51b57324-8303-4a9f-e977-0805b8feb518"
      },
      "source": [
        "% cd ../\n",
        "!zip -r /content/05_Chicago_Sketch.zip /content/Path4GMNS/dataset/05_Chicago_Sketch/\n",
        "\n"
      ],
      "execution_count": null,
      "outputs": [
        {
          "output_type": "stream",
          "text": [
            "/content/Path4GMNS/dataset\n",
            "  adding: content/Path4GMNS/dataset/05_Chicago_Sketch/ (stored 0%)\n",
            "  adding: content/Path4GMNS/dataset/05_Chicago_Sketch/agent.csv (deflated 89%)\n",
            "  adding: content/Path4GMNS/dataset/05_Chicago_Sketch/settings.csv (deflated 50%)\n",
            "  adding: content/Path4GMNS/dataset/05_Chicago_Sketch/link_type.csv (deflated 18%)\n",
            "  adding: content/Path4GMNS/dataset/05_Chicago_Sketch/NeXTA.log (stored 0%)\n",
            "  adding: content/Path4GMNS/dataset/05_Chicago_Sketch/demand.csv (deflated 69%)\n",
            "  adding: content/Path4GMNS/dataset/05_Chicago_Sketch/log.txt (deflated 53%)\n",
            "  adding: content/Path4GMNS/dataset/05_Chicago_Sketch/node.csv (deflated 65%)\n",
            "  adding: content/Path4GMNS/dataset/05_Chicago_Sketch/link_performance_comparison.xlsx (deflated 7%)\n",
            "  adding: content/Path4GMNS/dataset/05_Chicago_Sketch/link_performance.csv (deflated 75%)\n",
            "  adding: content/Path4GMNS/dataset/05_Chicago_Sketch/link.csv (deflated 85%)\n"
          ],
          "name": "stdout"
        }
      ]
    },
    {
      "cell_type": "code",
      "metadata": {
        "id": "eM3VbafBup5T",
        "colab": {
          "base_uri": "https://localhost:8080/",
          "height": 17
        },
        "outputId": "857d9d18-490b-40a9-f05f-c202dcec1955"
      },
      "source": [
        "from google.colab import files\n",
        "files.download(\"/content/05_Chicago_Sketch.zip\")"
      ],
      "execution_count": null,
      "outputs": [
        {
          "output_type": "display_data",
          "data": {
            "application/javascript": [
              "\n",
              "    async function download(id, filename, size) {\n",
              "      if (!google.colab.kernel.accessAllowed) {\n",
              "        return;\n",
              "      }\n",
              "      const div = document.createElement('div');\n",
              "      const label = document.createElement('label');\n",
              "      label.textContent = `Downloading \"${filename}\": `;\n",
              "      div.appendChild(label);\n",
              "      const progress = document.createElement('progress');\n",
              "      progress.max = size;\n",
              "      div.appendChild(progress);\n",
              "      document.body.appendChild(div);\n",
              "\n",
              "      const buffers = [];\n",
              "      let downloaded = 0;\n",
              "\n",
              "      const channel = await google.colab.kernel.comms.open(id);\n",
              "      // Send a message to notify the kernel that we're ready.\n",
              "      channel.send({})\n",
              "\n",
              "      for await (const message of channel.messages) {\n",
              "        // Send a message to notify the kernel that we're ready.\n",
              "        channel.send({})\n",
              "        if (message.buffers) {\n",
              "          for (const buffer of message.buffers) {\n",
              "            buffers.push(buffer);\n",
              "            downloaded += buffer.byteLength;\n",
              "            progress.value = downloaded;\n",
              "          }\n",
              "        }\n",
              "      }\n",
              "      const blob = new Blob(buffers, {type: 'application/binary'});\n",
              "      const a = document.createElement('a');\n",
              "      a.href = window.URL.createObjectURL(blob);\n",
              "      a.download = filename;\n",
              "      div.appendChild(a);\n",
              "      a.click();\n",
              "      div.remove();\n",
              "    }\n",
              "  "
            ],
            "text/plain": [
              "<IPython.core.display.Javascript object>"
            ]
          },
          "metadata": {
            "tags": []
          }
        },
        {
          "output_type": "display_data",
          "data": {
            "application/javascript": [
              "download(\"download_e3770be8-a6ac-4de3-94b4-ec71024341e4\", \"05_Chicago_Sketch.zip\", 9253120)"
            ],
            "text/plain": [
              "<IPython.core.display.Javascript object>"
            ]
          },
          "metadata": {
            "tags": []
          }
        }
      ]
    }
  ]
}