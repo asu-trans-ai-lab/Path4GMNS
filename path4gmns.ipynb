{
  "nbformat": 4,
  "nbformat_minor": 0,
  "metadata": {
    "colab": {
      "name": "path4gmns.ipynb",
      "provenance": [],
      "toc_visible": true,
      "include_colab_link": true
    },
    "kernelspec": {
      "name": "python3",
      "display_name": "Python 3"
    },
    "language_info": {
      "name": "python"
    }
  },
  "cells": [
    {
      "cell_type": "markdown",
      "metadata": {
        "id": "view-in-github",
        "colab_type": "text"
      },
      "source": [
        "<a href=\"https://colab.research.google.com/github/asu-trans-ai-lab/Path4GMNS/blob/master/path4gmns.ipynb\" target=\"_parent\"><img src=\"https://colab.research.google.com/assets/colab-badge.svg\" alt=\"Open In Colab\"/></a>"
      ]
    },
    {
      "cell_type": "markdown",
      "metadata": {
        "id": "egCYvfC1z5Ru"
      },
      "source": [
        "# **Path4GMNS**\n",
        "\n",
        "Path4GMNS is an open-source, lightweight, and fast Python path engine for networks encoded in GMNS. Besides finding the static and time-dependent shortest path for simple analyses, its main functionality is to provide an efficient and flexible framework for column(path)-based modeling/application frameworks in transportations (e.g., activity-based demand modeling)."
      ]
    },
    {
      "cell_type": "code",
      "metadata": {
        "id": "BvQ86ocf-FSA",
        "colab": {
          "base_uri": "https://localhost:8080/"
        },
        "outputId": "c390e032-6d39-4fce-af41-a125a5ea18f9"
      },
      "source": [
        "\"\"\"install path4gmns\"\"\"\n",
        "!pip install path4gmns==0.5.2a1\n",
        "\"\"\"import package\"\"\"\n",
        "import path4gmns as pg \n",
        "import pandas as pd\n",
        "from time import time"
      ],
      "execution_count": 1,
      "outputs": [
        {
          "output_type": "stream",
          "text": [
            "Collecting path4gmns==0.5.2a1\n",
            "\u001b[?25l  Downloading https://files.pythonhosted.org/packages/91/53/2f145362dbe2faa371226047dbd76aab5d048ae524853fe35c775a5a2e14/path4gmns-0.5.2a1-py3-none-any.whl (396kB)\n",
            "\r\u001b[K     |▉                               | 10kB 13.3MB/s eta 0:00:01\r\u001b[K     |█▋                              | 20kB 18.4MB/s eta 0:00:01\r\u001b[K     |██▌                             | 30kB 21.9MB/s eta 0:00:01\r\u001b[K     |███▎                            | 40kB 17.4MB/s eta 0:00:01\r\u001b[K     |████▏                           | 51kB 10.3MB/s eta 0:00:01\r\u001b[K     |█████                           | 61kB 10.6MB/s eta 0:00:01\r\u001b[K     |█████▉                          | 71kB 9.2MB/s eta 0:00:01\r\u001b[K     |██████▋                         | 81kB 8.5MB/s eta 0:00:01\r\u001b[K     |███████▍                        | 92kB 9.2MB/s eta 0:00:01\r\u001b[K     |████████▎                       | 102kB 10.0MB/s eta 0:00:01\r\u001b[K     |█████████                       | 112kB 10.0MB/s eta 0:00:01\r\u001b[K     |██████████                      | 122kB 10.0MB/s eta 0:00:01\r\u001b[K     |██████████▊                     | 133kB 10.0MB/s eta 0:00:01\r\u001b[K     |███████████▋                    | 143kB 10.0MB/s eta 0:00:01\r\u001b[K     |████████████▍                   | 153kB 10.0MB/s eta 0:00:01\r\u001b[K     |█████████████▏                  | 163kB 10.0MB/s eta 0:00:01\r\u001b[K     |██████████████                  | 174kB 10.0MB/s eta 0:00:01\r\u001b[K     |██████████████▉                 | 184kB 10.0MB/s eta 0:00:01\r\u001b[K     |███████████████▊                | 194kB 10.0MB/s eta 0:00:01\r\u001b[K     |████████████████▌               | 204kB 10.0MB/s eta 0:00:01\r\u001b[K     |█████████████████▍              | 215kB 10.0MB/s eta 0:00:01\r\u001b[K     |██████████████████▏             | 225kB 10.0MB/s eta 0:00:01\r\u001b[K     |███████████████████             | 235kB 10.0MB/s eta 0:00:01\r\u001b[K     |███████████████████▉            | 245kB 10.0MB/s eta 0:00:01\r\u001b[K     |████████████████████▋           | 256kB 10.0MB/s eta 0:00:01\r\u001b[K     |█████████████████████▌          | 266kB 10.0MB/s eta 0:00:01\r\u001b[K     |██████████████████████▎         | 276kB 10.0MB/s eta 0:00:01\r\u001b[K     |███████████████████████▏        | 286kB 10.0MB/s eta 0:00:01\r\u001b[K     |████████████████████████        | 296kB 10.0MB/s eta 0:00:01\r\u001b[K     |████████████████████████▉       | 307kB 10.0MB/s eta 0:00:01\r\u001b[K     |█████████████████████████▋      | 317kB 10.0MB/s eta 0:00:01\r\u001b[K     |██████████████████████████▍     | 327kB 10.0MB/s eta 0:00:01\r\u001b[K     |███████████████████████████▎    | 337kB 10.0MB/s eta 0:00:01\r\u001b[K     |████████████████████████████    | 348kB 10.0MB/s eta 0:00:01\r\u001b[K     |█████████████████████████████   | 358kB 10.0MB/s eta 0:00:01\r\u001b[K     |█████████████████████████████▊  | 368kB 10.0MB/s eta 0:00:01\r\u001b[K     |██████████████████████████████▋ | 378kB 10.0MB/s eta 0:00:01\r\u001b[K     |███████████████████████████████▍| 389kB 10.0MB/s eta 0:00:01\r\u001b[K     |████████████████████████████████| 399kB 10.0MB/s \n",
            "\u001b[?25hInstalling collected packages: path4gmns\n",
            "Successfully installed path4gmns-0.5.2a1\n",
            "path4gmns, version 0.5.2\n"
          ],
          "name": "stdout"
        }
      ]
    },
    {
      "cell_type": "markdown",
      "metadata": {
        "id": "QjPHwuFLXuYy"
      },
      "source": [
        "## 1. Import network data #\n",
        "\n"
      ]
    },
    {
      "cell_type": "code",
      "metadata": {
        "colab": {
          "base_uri": "https://localhost:8080/"
        },
        "id": "6YNvXlaEpWpq",
        "outputId": "e50fa7cb-23e4-4179-f2dd-43a02db7088d"
      },
      "source": [
        "\"Clone the Github repository\"\n",
        "\n",
        "!git clone https://github.com/chnfanyu/integrated_modeling \n",
        "\n",
        "%cd integrated_modeling/datasets/3_corridor/\n",
        "\n",
        "#%cd integrated_modeling/datasets/Chicago_Sketch/\n",
        "#%cd integrated_modeling/datasets/Sioux_Falls_network/\n",
        "#%cd integrated_modeling/datasets/UW_network/"
      ],
      "execution_count": 2,
      "outputs": [
        {
          "output_type": "stream",
          "text": [
            "Cloning into 'integrated_modeling'...\n",
            "remote: Enumerating objects: 37, done.\u001b[K\n",
            "remote: Counting objects: 100% (37/37), done.\u001b[K\n",
            "remote: Compressing objects: 100% (28/28), done.\u001b[K\n",
            "remote: Total 37 (delta 4), reused 34 (delta 4), pack-reused 0\u001b[K\n",
            "Unpacking objects: 100% (37/37), done.\n",
            "/content/integrated_modeling/datasets/3_corridor\n"
          ],
          "name": "stdout"
        }
      ]
    },
    {
      "cell_type": "markdown",
      "metadata": {
        "id": "Hg1eOa1Y9P2k"
      },
      "source": [
        "## 2. Path4GMNS modeling\n",
        "\n",
        "\n"
      ]
    },
    {
      "cell_type": "markdown",
      "metadata": {
        "id": "w3DHeZ7i6EF8"
      },
      "source": [
        "Mode 1: shortest path"
      ]
    },
    {
      "cell_type": "code",
      "metadata": {
        "id": "KOUennxk5vFT",
        "colab": {
          "base_uri": "https://localhost:8080/"
        },
        "outputId": "7638ef2a-32c8-4977-cb6e-d8ab19c412a0"
      },
      "source": [
        "load_demand = False\n",
        "network = pg.read_network(load_demand)\n",
        "print('\\nshortest path (external node sequence) from node 1 to node 2 is '\n",
        "          +str(pg.find_shortest_path(network, 1, 2)))"
      ],
      "execution_count": 3,
      "outputs": [
        {
          "output_type": "stream",
          "text": [
            "read node.csv\n",
            "the number of nodes is 40\n",
            "read link.csv\n",
            "the number of links is 55\n",
            "\n",
            "shortest path (external node sequence) from node 1 to node 2 is 1;3;4;5;6;7;8;9;10;11;12;2\n"
          ],
          "name": "stdout"
        }
      ]
    },
    {
      "cell_type": "markdown",
      "metadata": {
        "id": "XMSLOiwn5PUu"
      },
      "source": [
        "Mode 2: shortest paths for all agents"
      ]
    },
    {
      "cell_type": "code",
      "metadata": {
        "id": "-jh1tVdN5NVY",
        "colab": {
          "base_uri": "https://localhost:8080/"
        },
        "outputId": "f135c843-596c-4730-bad1-6be4b006bcc7"
      },
      "source": [
        "# read_network() will load demand by default\n",
        "# if there is no any other specification\n",
        "network = pg.read_network()\n",
        "\n",
        "st = time()\n",
        "\n",
        "pg.find_path_for_agents(network)\n",
        "print('\\nprocessing time of finding shortest paths for all agents:{0: .2f}'\n",
        "      .format(time()-st)+ 's')\n",
        "\n",
        "agent_id = 100\n",
        "print('\\norigin node id of agent is '\n",
        "      +str(network.get_agent_orig_node_id(agent_id)))\n",
        "\n",
        "print('destination node id of agent is '\n",
        "      +str(network.get_agent_dest_node_id(agent_id)))\n",
        "\n",
        "print('shortest path (node id) of agent is ' \n",
        "      + str(network.get_agent_node_path(agent_id)))\n",
        "\n",
        "print('shortest path (link id) of agent is ' \n",
        "      + str(network.get_agent_link_path(agent_id)))\n"
      ],
      "execution_count": 5,
      "outputs": [
        {
          "output_type": "stream",
          "text": [
            "read node.csv\n",
            "the number of nodes is 40\n",
            "read link.csv\n",
            "the number of links is 55\n",
            "read demand.csv\n",
            "the number of agents is 9967\n",
            "\n",
            "processing time of finding shortest paths for all agents: 0.08s\n",
            "\n",
            "origin node id of agent is 1\n",
            "destination node id of agent is 2\n",
            "shortest path (node id) of agent is 1;3;4;5;6;7;8;9;10;11;12;2\n",
            "shortest path (link id) of agent is 1;2;3;4;139;84;78;10;137;9;28\n"
          ],
          "name": "stdout"
        }
      ]
    },
    {
      "cell_type": "code",
      "metadata": {
        "id": "JTWWpRHpHJqh"
      },
      "source": [
        ""
      ],
      "execution_count": null,
      "outputs": []
    },
    {
      "cell_type": "markdown",
      "metadata": {
        "id": "igb0ZwnYtMZN"
      },
      "source": [
        "# New Section"
      ]
    },
    {
      "cell_type": "markdown",
      "metadata": {
        "id": "rLWCOBCN5l8L"
      },
      "source": [
        "Mode 3: column generation "
      ]
    },
    {
      "cell_type": "code",
      "metadata": {
        "id": "i_DF2X-BdNRX",
        "colab": {
          "base_uri": "https://localhost:8080/"
        },
        "outputId": "b0e2b71b-9335-49fa-b695-38bebffab637"
      },
      "source": [
        "network = pg.read_network()\n",
        "print('\\nstart column generation')\n",
        "st = time()\n",
        "iter_num = 20\n",
        "colum_update_num = 2\n",
        "pg.perform_network_assignment(1, iter_num, colum_update_num, network)\n",
        "print('processing time of column generation:{0: .2f}'\n",
        "          .format(time()-st)+ 's'\n",
        "          f' for {iter_num} assignment iterations and '\n",
        "          f'{colum_update_num} iterations in column generation')\n",
        "\n",
        "pg.output_columns(network.zones, network.column_pool)\n",
        "pg.output_link_performance(network.link_list)"
      ],
      "execution_count": 6,
      "outputs": [
        {
          "output_type": "stream",
          "text": [
            "read node.csv\n",
            "the number of nodes is 40\n",
            "read link.csv\n",
            "the number of links is 55\n",
            "read demand.csv\n",
            "the number of agents is 9967\n",
            "\n",
            "start column generation\n",
            "current iteration number in assignment: 0\n",
            "current iteration number in assignment: 1\n",
            "current iteration number in assignment: 2\n",
            "current iteration number in assignment: 3\n",
            "current iteration number in assignment: 4\n",
            "current iteration number in assignment: 5\n",
            "current iteration number in assignment: 6\n",
            "current iteration number in assignment: 7\n",
            "current iteration number in assignment: 8\n",
            "current iteration number in assignment: 9\n",
            "current iteration number in assignment: 10\n",
            "current iteration number in assignment: 11\n",
            "current iteration number in assignment: 12\n",
            "current iteration number in assignment: 13\n",
            "current iteration number in assignment: 14\n",
            "current iteration number in assignment: 15\n",
            "current iteration number in assignment: 16\n",
            "current iteration number in assignment: 17\n",
            "current iteration number in assignment: 18\n",
            "current iteration number in assignment: 19\n",
            "current iteration number in column generation: 0\n",
            "current iteration number in column generation: 1\n",
            "processing time of column generation: 0.10s for 20 assignment iterations and 2 iterations in column generation\n"
          ],
          "name": "stdout"
        }
      ]
    },
    {
      "cell_type": "markdown",
      "metadata": {
        "id": "AK63g7fB8Ywc"
      },
      "source": [
        "Mode 4 : DTALite "
      ]
    },
    {
      "cell_type": "code",
      "metadata": {
        "id": "WwW8lxv2_63D"
      },
      "source": [
        "\"\"\" validation using DTALite \"\"\" \n",
        "print('\\nstart column generation')\n",
        "\n",
        "iter_num = 20\n",
        "colum_update_num = 2\n",
        "pg.perform_network_assignment_DTALite(1, iter_num, colum_update_num)"
      ],
      "execution_count": null,
      "outputs": []
    },
    {
      "cell_type": "markdown",
      "metadata": {
        "id": "8CNaiMG8bRgI"
      },
      "source": [
        "##3. Download files\n",
        "\n",
        "\n"
      ]
    },
    {
      "cell_type": "code",
      "metadata": {
        "id": "iWCCyORj8MVF",
        "colab": {
          "base_uri": "https://localhost:8080/",
          "height": 346
        },
        "outputId": "f7b6fa08-8f4d-49e1-bd10-cb5cb2f27f58"
      },
      "source": [
        "% cd ../\n",
        "!zip -r 3_corridor.zip 3_corridor/ \n",
        "\n",
        "#!zip -r Chicago_Sketch.zip Chicago_Sketch/ \n",
        "#!zip -r Sioux_Falls_network.zip Sioux_Falls_network/ \n",
        "#!zip -r UW_network.zip UW_network/\n",
        "\n",
        "files.download('3_corridor.zip')\n",
        "\n",
        "#files.download('Chicago_Sketch.zip')\n",
        "#files.download('Sioux_Falls_network.zip')\n",
        "#files.download('UW_network.zip')"
      ],
      "execution_count": 7,
      "outputs": [
        {
          "output_type": "stream",
          "text": [
            "/content/integrated_modeling/datasets\n",
            "  adding: 3_corridor/ (stored 0%)\n",
            "  adding: 3_corridor/demand.csv (deflated 17%)\n",
            "  adding: 3_corridor/agent.csv (deflated 36%)\n",
            "  adding: 3_corridor/link.csv (deflated 86%)\n",
            "  adding: 3_corridor/node.csv (deflated 71%)\n",
            "  adding: 3_corridor/link_performance.csv (deflated 78%)\n"
          ],
          "name": "stdout"
        },
        {
          "output_type": "error",
          "ename": "NameError",
          "evalue": "ignored",
          "traceback": [
            "\u001b[0;31m---------------------------------------------------------------------------\u001b[0m",
            "\u001b[0;31mNameError\u001b[0m                                 Traceback (most recent call last)",
            "\u001b[0;32m<ipython-input-7-4334bac54b83>\u001b[0m in \u001b[0;36m<module>\u001b[0;34m()\u001b[0m\n\u001b[1;32m      6\u001b[0m \u001b[0;31m#!zip -r UW_network.zip UW_network/\u001b[0m\u001b[0;34m\u001b[0m\u001b[0;34m\u001b[0m\u001b[0;34m\u001b[0m\u001b[0m\n\u001b[1;32m      7\u001b[0m \u001b[0;34m\u001b[0m\u001b[0m\n\u001b[0;32m----> 8\u001b[0;31m \u001b[0mfiles\u001b[0m\u001b[0;34m.\u001b[0m\u001b[0mdownload\u001b[0m\u001b[0;34m(\u001b[0m\u001b[0;34m'3_corridor.zip'\u001b[0m\u001b[0;34m)\u001b[0m\u001b[0;34m\u001b[0m\u001b[0;34m\u001b[0m\u001b[0m\n\u001b[0m\u001b[1;32m      9\u001b[0m \u001b[0;34m\u001b[0m\u001b[0m\n\u001b[1;32m     10\u001b[0m \u001b[0;31m#files.download('Chicago_Sketch.zip')\u001b[0m\u001b[0;34m\u001b[0m\u001b[0;34m\u001b[0m\u001b[0;34m\u001b[0m\u001b[0m\n",
            "\u001b[0;31mNameError\u001b[0m: name 'files' is not defined"
          ]
        }
      ]
    }
  ]
}