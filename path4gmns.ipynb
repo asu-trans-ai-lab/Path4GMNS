{
  "nbformat": 4,
  "nbformat_minor": 0,
  "metadata": {
    "colab": {
      "name": "path4gmns.ipynb",
      "provenance": [],
      "toc_visible": true,
      "include_colab_link": true
    },
    "kernelspec": {
      "name": "python3",
      "display_name": "Python 3"
    },
    "language_info": {
      "name": "python"
    }
  },
  "cells": [
    {
      "cell_type": "markdown",
      "metadata": {
        "id": "view-in-github",
        "colab_type": "text"
      },
      "source": [
        "<a href=\"https://colab.research.google.com/github/asu-trans-ai-lab/Path4GMNS/blob/master/path4gmns.ipynb\" target=\"_parent\"><img src=\"https://colab.research.google.com/assets/colab-badge.svg\" alt=\"Open In Colab\"/></a>"
      ]
    },
    {
      "cell_type": "markdown",
      "metadata": {
        "id": "egCYvfC1z5Ru"
      },
      "source": [
        "# **Path4GMNS**\n",
        "\n",
        "Path4GMNS is an open-source, lightweight, and fast Python path engine for networks encoded in GMNS. Besides finding the static and time-dependent shortest path for simple analyses, its main functionality is to provide an efficient and flexible framework for column(path)-based modeling/application frameworks in transportations (e.g., activity-based demand modeling)."
      ]
    },
    {
      "cell_type": "code",
      "metadata": {
        "id": "BvQ86ocf-FSA",
        "colab": {
          "base_uri": "https://localhost:8080/"
        },
        "outputId": "fd6b87bc-193e-4f4f-bcba-b233f9f7ccd8"
      },
      "source": [
        "\"\"\"install path4gmns\"\"\"\n",
        "!pip install path4gmns --upgrade\n",
        "\"\"\"import package\"\"\"\n",
        "import path4gmns as pg \n",
        "import pandas as pd\n",
        "from time import time"
      ],
      "execution_count": 1,
      "outputs": [
        {
          "output_type": "stream",
          "text": [
            "Requirement already up-to-date: path4gmns in /usr/local/lib/python3.7/dist-packages (0.6.0)\n",
            "path4gmns, version 0.6.0\n"
          ],
          "name": "stdout"
        }
      ]
    },
    {
      "cell_type": "markdown",
      "metadata": {
        "id": "QjPHwuFLXuYy"
      },
      "source": [
        "## 1. Import network data #\n",
        "\n"
      ]
    },
    {
      "cell_type": "code",
      "metadata": {
        "colab": {
          "base_uri": "https://localhost:8080/"
        },
        "id": "6YNvXlaEpWpq",
        "outputId": "fef288bd-ea15-4872-e75d-f223e18d61bb"
      },
      "source": [
        "\"Clone the Github repository\"\n",
        "\n",
        "!git clone https://github.com/chnfanyu/integrated_modeling \n",
        "\n",
        "%cd integrated_modeling/datasets/3_corridor/\n",
        "\n",
        "#%cd integrated_modeling/datasets/Chicago_Sketch/\n",
        "#%cd integrated_modeling/datasets/Sioux_Falls_network/\n",
        "#%cd integrated_modeling/datasets/UW_network/"
      ],
      "execution_count": 2,
      "outputs": [
        {
          "output_type": "stream",
          "text": [
            "Cloning into 'integrated_modeling'...\n",
            "remote: Enumerating objects: 377, done.\u001b[K\n",
            "remote: Counting objects: 100% (377/377), done.\u001b[K\n",
            "remote: Compressing objects: 100% (326/326), done.\u001b[K\n",
            "remote: Total 377 (delta 100), reused 277 (delta 39), pack-reused 0\u001b[K\n",
            "Receiving objects: 100% (377/377), 42.04 MiB | 15.92 MiB/s, done.\n",
            "Resolving deltas: 100% (100/100), done.\n",
            "Checking out files: 100% (242/242), done.\n",
            "[Errno 2] No such file or directory: 'integrated_modeling/datasets/3_corridor/'\n",
            "/content\n"
          ],
          "name": "stdout"
        }
      ]
    },
    {
      "cell_type": "markdown",
      "metadata": {
        "id": "Hg1eOa1Y9P2k"
      },
      "source": [
        "## 2. Path4GMNS modeling\n",
        "\n",
        "\n"
      ]
    },
    {
      "cell_type": "markdown",
      "metadata": {
        "id": "w3DHeZ7i6EF8"
      },
      "source": [
        "Mode 1: shortest path"
      ]
    },
    {
      "cell_type": "code",
      "metadata": {
        "id": "KOUennxk5vFT",
        "colab": {
          "base_uri": "https://localhost:8080/",
          "height": 354
        },
        "outputId": "6a419cba-b07f-4c0c-d889-57ab08a51a05"
      },
      "source": [
        "load_demand = False\n",
        "network = pg.read_network(load_demand)\n",
        "print('\\nshortest path (external node sequence) from node 1 to node 2 is '\n",
        "          +str(pg.find_shortest_path(network, 1, 2)))"
      ],
      "execution_count": 3,
      "outputs": [
        {
          "output_type": "error",
          "ename": "FileNotFoundError",
          "evalue": "ignored",
          "traceback": [
            "\u001b[0;31m---------------------------------------------------------------------------\u001b[0m",
            "\u001b[0;31mFileNotFoundError\u001b[0m                         Traceback (most recent call last)",
            "\u001b[0;32m<ipython-input-3-f14768012960>\u001b[0m in \u001b[0;36m<module>\u001b[0;34m()\u001b[0m\n\u001b[1;32m      1\u001b[0m \u001b[0mload_demand\u001b[0m \u001b[0;34m=\u001b[0m \u001b[0;32mFalse\u001b[0m\u001b[0;34m\u001b[0m\u001b[0;34m\u001b[0m\u001b[0m\n\u001b[0;32m----> 2\u001b[0;31m \u001b[0mnetwork\u001b[0m \u001b[0;34m=\u001b[0m \u001b[0mpg\u001b[0m\u001b[0;34m.\u001b[0m\u001b[0mread_network\u001b[0m\u001b[0;34m(\u001b[0m\u001b[0mload_demand\u001b[0m\u001b[0;34m)\u001b[0m\u001b[0;34m\u001b[0m\u001b[0;34m\u001b[0m\u001b[0m\n\u001b[0m\u001b[1;32m      3\u001b[0m print('\\nshortest path (external node sequence) from node 1 to node 2 is '\n\u001b[1;32m      4\u001b[0m           +str(pg.find_shortest_path(network, 1, 2)))\n",
            "\u001b[0;32m/usr/local/lib/python3.7/dist-packages/path4gmns/util.py\u001b[0m in \u001b[0;36mread_network\u001b[0;34m(load_demand, input_dir)\u001b[0m\n\u001b[1;32m    454\u001b[0m                \u001b[0mnetwork\u001b[0m\u001b[0;34m.\u001b[0m\u001b[0minternal_node_seq_no_dict\u001b[0m\u001b[0;34m,\u001b[0m\u001b[0;34m\u001b[0m\u001b[0;34m\u001b[0m\u001b[0m\n\u001b[1;32m    455\u001b[0m                \u001b[0mnetwork\u001b[0m\u001b[0;34m.\u001b[0m\u001b[0mexternal_node_id_dict\u001b[0m\u001b[0;34m,\u001b[0m\u001b[0;34m\u001b[0m\u001b[0;34m\u001b[0m\u001b[0m\n\u001b[0;32m--> 456\u001b[0;31m                network.zone_to_nodes_dict)\n\u001b[0m\u001b[1;32m    457\u001b[0m \u001b[0;34m\u001b[0m\u001b[0m\n\u001b[1;32m    458\u001b[0m     read_links(input_dir,\n",
            "\u001b[0;32m/usr/local/lib/python3.7/dist-packages/path4gmns/util.py\u001b[0m in \u001b[0;36mread_nodes\u001b[0;34m(input_dir, nodes, id_to_no_dict, no_to_id_dict, zone_to_node_dict)\u001b[0m\n\u001b[1;32m     21\u001b[0m \u001b[0;34m\u001b[0m\u001b[0m\n\u001b[1;32m     22\u001b[0m     \u001b[0;34m\"\"\" step 1: read input_node \"\"\"\u001b[0m\u001b[0;34m\u001b[0m\u001b[0;34m\u001b[0m\u001b[0m\n\u001b[0;32m---> 23\u001b[0;31m     \u001b[0;32mwith\u001b[0m \u001b[0mopen\u001b[0m\u001b[0;34m(\u001b[0m\u001b[0minput_dir\u001b[0m\u001b[0;34m+\u001b[0m\u001b[0;34m'/node.csv'\u001b[0m\u001b[0;34m,\u001b[0m \u001b[0;34m'r'\u001b[0m\u001b[0;34m,\u001b[0m \u001b[0mencoding\u001b[0m\u001b[0;34m=\u001b[0m\u001b[0;34m'utf-8'\u001b[0m\u001b[0;34m)\u001b[0m \u001b[0;32mas\u001b[0m \u001b[0mfp\u001b[0m\u001b[0;34m:\u001b[0m\u001b[0;34m\u001b[0m\u001b[0;34m\u001b[0m\u001b[0m\n\u001b[0m\u001b[1;32m     24\u001b[0m         \u001b[0mprint\u001b[0m\u001b[0;34m(\u001b[0m\u001b[0;34m'read node.csv'\u001b[0m\u001b[0;34m)\u001b[0m\u001b[0;34m\u001b[0m\u001b[0;34m\u001b[0m\u001b[0m\n\u001b[1;32m     25\u001b[0m \u001b[0;34m\u001b[0m\u001b[0m\n",
            "\u001b[0;31mFileNotFoundError\u001b[0m: [Errno 2] No such file or directory: './node.csv'"
          ]
        }
      ]
    },
    {
      "cell_type": "markdown",
      "metadata": {
        "id": "XMSLOiwn5PUu"
      },
      "source": [
        "Mode 2: shortest paths for all agents"
      ]
    },
    {
      "cell_type": "code",
      "metadata": {
        "id": "-jh1tVdN5NVY",
        "colab": {
          "base_uri": "https://localhost:8080/",
          "height": 370
        },
        "outputId": "27bdc79c-f63c-40ab-f6aa-7abbcc949a55"
      },
      "source": [
        "# read_network() will load demand by default\n",
        "# if there is no any other specification\n",
        "network = pg.read_network()\n",
        "\n",
        "st = time()\n",
        "\n",
        "pg.find_path_for_agents(network)\n",
        "print('\\nprocessing time of finding shortest paths for all agents:{0: .2f}'\n",
        "      .format(time()-st)+ 's')\n",
        "\n",
        "agent_id = 100\n",
        "print('\\norigin node id of agent is '\n",
        "      +str(network.get_agent_orig_node_id(agent_id)))\n",
        "\n",
        "print('destination node id of agent is '\n",
        "      +str(network.get_agent_dest_node_id(agent_id)))\n",
        "\n",
        "print('shortest path (node id) of agent is ' \n",
        "      + str(network.get_agent_node_path(agent_id)))\n",
        "\n",
        "print('shortest path (link id) of agent is ' \n",
        "      + str(network.get_agent_link_path(agent_id)))\n"
      ],
      "execution_count": 4,
      "outputs": [
        {
          "output_type": "error",
          "ename": "FileNotFoundError",
          "evalue": "ignored",
          "traceback": [
            "\u001b[0;31m---------------------------------------------------------------------------\u001b[0m",
            "\u001b[0;31mFileNotFoundError\u001b[0m                         Traceback (most recent call last)",
            "\u001b[0;32m<ipython-input-4-5aaecc4b0c4b>\u001b[0m in \u001b[0;36m<module>\u001b[0;34m()\u001b[0m\n\u001b[1;32m      1\u001b[0m \u001b[0;31m# read_network() will load demand by default\u001b[0m\u001b[0;34m\u001b[0m\u001b[0;34m\u001b[0m\u001b[0;34m\u001b[0m\u001b[0m\n\u001b[1;32m      2\u001b[0m \u001b[0;31m# if there is no any other specification\u001b[0m\u001b[0;34m\u001b[0m\u001b[0;34m\u001b[0m\u001b[0;34m\u001b[0m\u001b[0m\n\u001b[0;32m----> 3\u001b[0;31m \u001b[0mnetwork\u001b[0m \u001b[0;34m=\u001b[0m \u001b[0mpg\u001b[0m\u001b[0;34m.\u001b[0m\u001b[0mread_network\u001b[0m\u001b[0;34m(\u001b[0m\u001b[0;34m)\u001b[0m\u001b[0;34m\u001b[0m\u001b[0;34m\u001b[0m\u001b[0m\n\u001b[0m\u001b[1;32m      4\u001b[0m \u001b[0;34m\u001b[0m\u001b[0m\n\u001b[1;32m      5\u001b[0m \u001b[0mst\u001b[0m \u001b[0;34m=\u001b[0m \u001b[0mtime\u001b[0m\u001b[0;34m(\u001b[0m\u001b[0;34m)\u001b[0m\u001b[0;34m\u001b[0m\u001b[0;34m\u001b[0m\u001b[0m\n",
            "\u001b[0;32m/usr/local/lib/python3.7/dist-packages/path4gmns/util.py\u001b[0m in \u001b[0;36mread_network\u001b[0;34m(load_demand, input_dir)\u001b[0m\n\u001b[1;32m    454\u001b[0m                \u001b[0mnetwork\u001b[0m\u001b[0;34m.\u001b[0m\u001b[0minternal_node_seq_no_dict\u001b[0m\u001b[0;34m,\u001b[0m\u001b[0;34m\u001b[0m\u001b[0;34m\u001b[0m\u001b[0m\n\u001b[1;32m    455\u001b[0m                \u001b[0mnetwork\u001b[0m\u001b[0;34m.\u001b[0m\u001b[0mexternal_node_id_dict\u001b[0m\u001b[0;34m,\u001b[0m\u001b[0;34m\u001b[0m\u001b[0;34m\u001b[0m\u001b[0m\n\u001b[0;32m--> 456\u001b[0;31m                network.zone_to_nodes_dict)\n\u001b[0m\u001b[1;32m    457\u001b[0m \u001b[0;34m\u001b[0m\u001b[0m\n\u001b[1;32m    458\u001b[0m     read_links(input_dir,\n",
            "\u001b[0;32m/usr/local/lib/python3.7/dist-packages/path4gmns/util.py\u001b[0m in \u001b[0;36mread_nodes\u001b[0;34m(input_dir, nodes, id_to_no_dict, no_to_id_dict, zone_to_node_dict)\u001b[0m\n\u001b[1;32m     21\u001b[0m \u001b[0;34m\u001b[0m\u001b[0m\n\u001b[1;32m     22\u001b[0m     \u001b[0;34m\"\"\" step 1: read input_node \"\"\"\u001b[0m\u001b[0;34m\u001b[0m\u001b[0;34m\u001b[0m\u001b[0m\n\u001b[0;32m---> 23\u001b[0;31m     \u001b[0;32mwith\u001b[0m \u001b[0mopen\u001b[0m\u001b[0;34m(\u001b[0m\u001b[0minput_dir\u001b[0m\u001b[0;34m+\u001b[0m\u001b[0;34m'/node.csv'\u001b[0m\u001b[0;34m,\u001b[0m \u001b[0;34m'r'\u001b[0m\u001b[0;34m,\u001b[0m \u001b[0mencoding\u001b[0m\u001b[0;34m=\u001b[0m\u001b[0;34m'utf-8'\u001b[0m\u001b[0;34m)\u001b[0m \u001b[0;32mas\u001b[0m \u001b[0mfp\u001b[0m\u001b[0;34m:\u001b[0m\u001b[0;34m\u001b[0m\u001b[0;34m\u001b[0m\u001b[0m\n\u001b[0m\u001b[1;32m     24\u001b[0m         \u001b[0mprint\u001b[0m\u001b[0;34m(\u001b[0m\u001b[0;34m'read node.csv'\u001b[0m\u001b[0;34m)\u001b[0m\u001b[0;34m\u001b[0m\u001b[0;34m\u001b[0m\u001b[0m\n\u001b[1;32m     25\u001b[0m \u001b[0;34m\u001b[0m\u001b[0m\n",
            "\u001b[0;31mFileNotFoundError\u001b[0m: [Errno 2] No such file or directory: './node.csv'"
          ]
        }
      ]
    },
    {
      "cell_type": "code",
      "metadata": {
        "id": "JTWWpRHpHJqh"
      },
      "source": [
        ""
      ],
      "execution_count": null,
      "outputs": []
    },
    {
      "cell_type": "markdown",
      "metadata": {
        "id": "igb0ZwnYtMZN"
      },
      "source": [
        "# New Section"
      ]
    },
    {
      "cell_type": "markdown",
      "metadata": {
        "id": "rLWCOBCN5l8L"
      },
      "source": [
        "Mode 3: column generation "
      ]
    },
    {
      "cell_type": "code",
      "metadata": {
        "id": "i_DF2X-BdNRX",
        "colab": {
          "base_uri": "https://localhost:8080/"
        },
        "outputId": "b0e2b71b-9335-49fa-b695-38bebffab637"
      },
      "source": [
        "network = pg.read_network()\n",
        "print('\\nstart column generation')\n",
        "st = time()\n",
        "iter_num = 20\n",
        "colum_update_num = 2\n",
        "pg.perform_network_assignment(1, iter_num, colum_update_num, network)\n",
        "print('processing time of column generation:{0: .2f}'\n",
        "          .format(time()-st)+ 's'\n",
        "          f' for {iter_num} assignment iterations and '\n",
        "          f'{colum_update_num} iterations in column generation')\n",
        "\n",
        "pg.output_columns(network.zones, network.column_pool)\n",
        "pg.output_link_performance(network.link_list)"
      ],
      "execution_count": null,
      "outputs": [
        {
          "output_type": "stream",
          "text": [
            "read node.csv\n",
            "the number of nodes is 40\n",
            "read link.csv\n",
            "the number of links is 55\n",
            "read demand.csv\n",
            "the number of agents is 9967\n",
            "\n",
            "start column generation\n",
            "current iteration number in assignment: 0\n",
            "current iteration number in assignment: 1\n",
            "current iteration number in assignment: 2\n",
            "current iteration number in assignment: 3\n",
            "current iteration number in assignment: 4\n",
            "current iteration number in assignment: 5\n",
            "current iteration number in assignment: 6\n",
            "current iteration number in assignment: 7\n",
            "current iteration number in assignment: 8\n",
            "current iteration number in assignment: 9\n",
            "current iteration number in assignment: 10\n",
            "current iteration number in assignment: 11\n",
            "current iteration number in assignment: 12\n",
            "current iteration number in assignment: 13\n",
            "current iteration number in assignment: 14\n",
            "current iteration number in assignment: 15\n",
            "current iteration number in assignment: 16\n",
            "current iteration number in assignment: 17\n",
            "current iteration number in assignment: 18\n",
            "current iteration number in assignment: 19\n",
            "current iteration number in column generation: 0\n",
            "current iteration number in column generation: 1\n",
            "processing time of column generation: 0.10s for 20 assignment iterations and 2 iterations in column generation\n"
          ],
          "name": "stdout"
        }
      ]
    },
    {
      "cell_type": "markdown",
      "metadata": {
        "id": "AK63g7fB8Ywc"
      },
      "source": [
        "Mode 4 : DTALite "
      ]
    },
    {
      "cell_type": "code",
      "metadata": {
        "id": "WwW8lxv2_63D"
      },
      "source": [
        "\"\"\" validation using DTALite \"\"\" \n",
        "print('\\nstart column generation')\n",
        "\n",
        "iter_num = 20\n",
        "colum_update_num = 2\n",
        "pg.perform_network_assignment_DTALite(1, iter_num, colum_update_num)"
      ],
      "execution_count": null,
      "outputs": []
    },
    {
      "cell_type": "markdown",
      "metadata": {
        "id": "8CNaiMG8bRgI"
      },
      "source": [
        "##3. Download files\n",
        "\n",
        "\n"
      ]
    },
    {
      "cell_type": "code",
      "metadata": {
        "id": "iWCCyORj8MVF",
        "colab": {
          "base_uri": "https://localhost:8080/",
          "height": 346
        },
        "outputId": "f7b6fa08-8f4d-49e1-bd10-cb5cb2f27f58"
      },
      "source": [
        "% cd ../\n",
        "!zip -r 3_corridor.zip 3_corridor/ \n",
        "\n",
        "#!zip -r Chicago_Sketch.zip Chicago_Sketch/ \n",
        "#!zip -r Sioux_Falls_network.zip Sioux_Falls_network/ \n",
        "#!zip -r UW_network.zip UW_network/\n",
        "\n",
        "files.download('3_corridor.zip')\n",
        "\n",
        "#files.download('Chicago_Sketch.zip')\n",
        "#files.download('Sioux_Falls_network.zip')\n",
        "#files.download('UW_network.zip')"
      ],
      "execution_count": null,
      "outputs": [
        {
          "output_type": "stream",
          "text": [
            "/content/integrated_modeling/datasets\n",
            "  adding: 3_corridor/ (stored 0%)\n",
            "  adding: 3_corridor/demand.csv (deflated 17%)\n",
            "  adding: 3_corridor/agent.csv (deflated 36%)\n",
            "  adding: 3_corridor/link.csv (deflated 86%)\n",
            "  adding: 3_corridor/node.csv (deflated 71%)\n",
            "  adding: 3_corridor/link_performance.csv (deflated 78%)\n"
          ],
          "name": "stdout"
        },
        {
          "output_type": "error",
          "ename": "NameError",
          "evalue": "ignored",
          "traceback": [
            "\u001b[0;31m---------------------------------------------------------------------------\u001b[0m",
            "\u001b[0;31mNameError\u001b[0m                                 Traceback (most recent call last)",
            "\u001b[0;32m<ipython-input-7-4334bac54b83>\u001b[0m in \u001b[0;36m<module>\u001b[0;34m()\u001b[0m\n\u001b[1;32m      6\u001b[0m \u001b[0;31m#!zip -r UW_network.zip UW_network/\u001b[0m\u001b[0;34m\u001b[0m\u001b[0;34m\u001b[0m\u001b[0;34m\u001b[0m\u001b[0m\n\u001b[1;32m      7\u001b[0m \u001b[0;34m\u001b[0m\u001b[0m\n\u001b[0;32m----> 8\u001b[0;31m \u001b[0mfiles\u001b[0m\u001b[0;34m.\u001b[0m\u001b[0mdownload\u001b[0m\u001b[0;34m(\u001b[0m\u001b[0;34m'3_corridor.zip'\u001b[0m\u001b[0;34m)\u001b[0m\u001b[0;34m\u001b[0m\u001b[0;34m\u001b[0m\u001b[0m\n\u001b[0m\u001b[1;32m      9\u001b[0m \u001b[0;34m\u001b[0m\u001b[0m\n\u001b[1;32m     10\u001b[0m \u001b[0;31m#files.download('Chicago_Sketch.zip')\u001b[0m\u001b[0;34m\u001b[0m\u001b[0;34m\u001b[0m\u001b[0;34m\u001b[0m\u001b[0m\n",
            "\u001b[0;31mNameError\u001b[0m: name 'files' is not defined"
          ]
        }
      ]
    }
  ]
}