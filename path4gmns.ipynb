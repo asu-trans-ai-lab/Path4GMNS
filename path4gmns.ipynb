{
  "nbformat": 4,
  "nbformat_minor": 0,
  "metadata": {
    "colab": {
      "name": "path4gmns.ipynb",
      "provenance": [],
      "include_colab_link": true
    },
    "kernelspec": {
      "name": "python3",
      "display_name": "Python 3"
    },
    "language_info": {
      "name": "python"
    }
  },
  "cells": [
    {
      "cell_type": "markdown",
      "metadata": {
        "id": "view-in-github",
        "colab_type": "text"
      },
      "source": [
        "<a href=\"https://colab.research.google.com/github/asu-trans-ai-lab/Path4GMNS/blob/master/path4gmns.ipynb\" target=\"_parent\"><img src=\"https://colab.research.google.com/assets/colab-badge.svg\" alt=\"Open In Colab\"/></a>"
      ]
    },
    {
      "cell_type": "markdown",
      "metadata": {
        "id": "egCYvfC1z5Ru"
      },
      "source": [
        "# **Path4GMNS**\n",
        "\n",
        "Path4GMNS is an open-source, lightweight, and fast Python path engine for networks encoded in GMNS. Besides finding the static and time-dependent shortest path for simple analyses, its main functionality is to provide an efficient and flexible framework for column(path)-based modeling/application frameworks in transportations (e.g., activity-based demand modeling)."
      ]
    },
    {
      "cell_type": "code",
      "metadata": {
        "id": "BvQ86ocf-FSA",
        "colab": {
          "base_uri": "https://localhost:8080/"
        },
        "outputId": "5c5773dd-3ab5-4061-8432-baaccfb88595"
      },
      "source": [
        "\"\"\"install path4gmns\"\"\"\n",
        "!pip install path4gmns --upgrade\n",
        "\"\"\"import package\"\"\"\n",
        "import path4gmns as pg \n",
        "import pandas as pd\n",
        "from time import time"
      ],
      "execution_count": 3,
      "outputs": [
        {
          "output_type": "stream",
          "text": [
            "Requirement already up-to-date: path4gmns in /usr/local/lib/python3.7/dist-packages (0.6.0)\n",
            "path4gmns, version 0.6.0\n"
          ],
          "name": "stdout"
        }
      ]
    },
    {
      "cell_type": "markdown",
      "metadata": {
        "id": "QjPHwuFLXuYy"
      },
      "source": [
        "## 1. Import network data #\n",
        "\n"
      ]
    },
    {
      "cell_type": "code",
      "metadata": {
        "id": "6YNvXlaEpWpq"
      },
      "source": [
        "\"Clone the Github repository\"\n",
        "\n",
        "!git clone https://github.com/asu-trans-ai-lab/Path4GMNS \n",
        "\n",
        "%cd Path4GMNS/dataset/05_Chicago_Sketch\n",
        "\n"
      ],
      "execution_count": null,
      "outputs": []
    },
    {
      "cell_type": "markdown",
      "metadata": {
        "id": "Hg1eOa1Y9P2k"
      },
      "source": [
        "## 2. Path4GMNS modeling\n",
        "\n",
        "\n"
      ]
    },
    {
      "cell_type": "markdown",
      "metadata": {
        "id": "w3DHeZ7i6EF8"
      },
      "source": [
        "Mode 1: finding single-pair shortest path"
      ]
    },
    {
      "cell_type": "code",
      "metadata": {
        "id": "KOUennxk5vFT",
        "colab": {
          "base_uri": "https://localhost:8080/"
        },
        "outputId": "61e9516a-039b-4a83-b667-61dc9da17b3e"
      },
      "source": [
        "import path4gmns as pg\n",
        "\n",
        "load_demand = False\n",
        "network = pg.read_network(load_demand)\n",
        "\n",
        "print('\\nshortest path (node id) from node 1 to node 2 is '\n",
        "      +network.find_shortest_path(1, 2))\n",
        "print('\\nshortest path (link id) from node 1 to node 2 is '\n",
        "      +network.find_shortest_path(1, 2, 'link'))"
      ],
      "execution_count": 5,
      "outputs": [
        {
          "output_type": "stream",
          "text": [
            "read node.csv\n",
            "the number of nodes is 933\n",
            "read link.csv\n",
            "the number of links is 2950\n",
            "\n",
            "shortest path (node id) from node 1 to node 2 is 1;547;548;2\n",
            "\n",
            "shortest path (link id) from node 1 to node 2 is 1;547;548;2\n"
          ],
          "name": "stdout"
        }
      ]
    },
    {
      "cell_type": "markdown",
      "metadata": {
        "id": "XMSLOiwn5PUu"
      },
      "source": [
        "Mode 2: shortest paths for all agents (to be tested as a change of function names in the recent release)."
      ]
    },
    {
      "cell_type": "code",
      "metadata": {
        "id": "-jh1tVdN5NVY",
        "colab": {
          "base_uri": "https://localhost:8080/"
        },
        "outputId": "0969caa9-ec49-4b23-a8d4-9dda0850bd3a"
      },
      "source": [
        "import path4gmns as pg\n",
        "\n",
        "network = pg.read_network()\n",
        "network.find_path_for_agents()\n",
        "\n",
        "agent_id = 300\n",
        "print('\\norigin node id of agent is '\n",
        "      +str(network.get_agent_orig_node_id(agent_id)))\n",
        "\n",
        "print('destination node id of agent is '\n",
        "      +str(network.get_agent_dest_node_id(agent_id)))\n",
        "\n",
        "print('shortest path (node id) of agent is ' \n",
        "      +str(network.get_agent_node_path(agent_id)))\n",
        "\n",
        "print('shortest path (link id) of agent is ' \n",
        "      +str(network.get_agent_link_path(agent_id)))\n",
        "\n",
        "agent_id = 1000\n",
        "print('\\norigin node id of agent is '\n",
        "      +str(network.get_agent_orig_node_id(agent_id)))\n",
        "\n",
        "print('destination node id of agent is '\n",
        "      +str(network.get_agent_dest_node_id(agent_id)))\n",
        "\n",
        "print('shortest path (node id) of agent is ' \n",
        "      +str(network.get_agent_node_path(agent_id)))\n",
        "\n",
        "print('shortest path (link id) of agent is ' \n",
        "      +str(network.get_agent_link_path(agent_id)))"
      ],
      "execution_count": 6,
      "outputs": [
        {
          "output_type": "stream",
          "text": [
            "\n",
            "origin node id of agent is 1\n",
            "destination node id of agent is 2\n",
            "shortest path (node id) of agent is 1;547;548;2\n",
            "shortest path (link id) of agent is 1;986;989\n",
            "\n",
            "origin node id of agent is 1\n",
            "destination node id of agent is 3\n",
            "shortest path (node id) of agent is 1;547;549;3\n",
            "shortest path (link id) of agent is 1;987;994\n"
          ],
          "name": "stdout"
        }
      ]
    },
    {
      "cell_type": "code",
      "metadata": {
        "id": "JTWWpRHpHJqh"
      },
      "source": [
        ""
      ],
      "execution_count": null,
      "outputs": []
    },
    {
      "cell_type": "markdown",
      "metadata": {
        "id": "rLWCOBCN5l8L"
      },
      "source": [
        "Mode 3: column generation "
      ]
    },
    {
      "cell_type": "code",
      "metadata": {
        "id": "i_DF2X-BdNRX",
        "colab": {
          "base_uri": "https://localhost:8080/"
        },
        "outputId": "eadd592a-d560-470f-9533-8ec28f5d9cb5"
      },
      "source": [
        "import path4gmns as pg\n",
        "\n",
        "network = pg.read_network()\n",
        "\n",
        "# path-based UE\n",
        "mode = 1\n",
        "assignment_num = 5\n",
        "column_update_num = 5\n",
        "\n",
        "pg.perform_network_assignment(mode, assignment_num, column_update_num, network)\n",
        "\n",
        "pg.output_columns(network)\n",
        "pg.output_link_performance(network)\n",
        "\n",
        "print('\\npath finding results can be found in agent.csv')"
      ],
      "execution_count": 8,
      "outputs": [
        {
          "output_type": "stream",
          "text": [
            "read node.csv\n",
            "the number of nodes is 933\n",
            "read link.csv\n",
            "the number of links is 2950\n",
            "read demand.csv\n",
            "the number of agents is 1328348\n",
            "current iteration number in assignment: 0\n",
            "current iteration number in assignment: 1\n",
            "current iteration number in assignment: 2\n",
            "current iteration number in assignment: 3\n",
            "current iteration number in assignment: 4\n",
            "current iteration number in assignment: 5\n",
            "current iteration number in assignment: 6\n",
            "current iteration number in assignment: 7\n",
            "current iteration number in assignment: 8\n",
            "current iteration number in assignment: 9\n",
            "\n",
            "processing time of assignment: 38.85s\n",
            "\n",
            "current iteration number in column generation: 0\n",
            "total gap: 259847.34\n",
            "current iteration number in column generation: 1\n",
            "total gap: 164079.80\n",
            "current iteration number in column generation: 2\n",
            "total gap: 107131.37\n",
            "current iteration number in column generation: 3\n",
            "total gap: 80922.87\n",
            "current iteration number in column generation: 4\n",
            "total gap: 70628.48\n",
            "current iteration number in column generation: 5\n",
            "total gap: 64014.74\n",
            "current iteration number in column generation: 6\n",
            "total gap: 60074.32\n",
            "current iteration number in column generation: 7\n",
            "total gap: 56641.85\n",
            "current iteration number in column generation: 8\n",
            "total gap: 54090.08\n",
            "current iteration number in column generation: 9\n",
            "total gap: 51772.99\n",
            "\n",
            "path finding results can be found in agent.csv\n"
          ],
          "name": "stdout"
        }
      ]
    },
    {
      "cell_type": "markdown",
      "metadata": {
        "id": "AK63g7fB8Ywc"
      },
      "source": [
        "\n",
        "\n",
        "```\n",
        "# This is formatted as code\n",
        "```\n",
        "\n",
        "Mode 4 : DTALite "
      ]
    },
    {
      "cell_type": "code",
      "metadata": {
        "id": "WwW8lxv2_63D",
        "outputId": "7512e1e7-00c7-46f3-e95d-3fb636016e5d",
        "colab": {
          "base_uri": "https://localhost:8080/"
        }
      },
      "source": [
        "import path4gmns as pg\n",
        "\n",
        "# no need to call read_network() like the python module\n",
        "# as network and demand loading will be handled within DTALite\n",
        "\n",
        "# path-based UE\n",
        "mode = 1\n",
        "assignment_num = 2\n",
        "column_update_num = 2\n",
        "\n",
        "pg.perform_network_assignment_DTALite(1, assignment_num,\n",
        "                                      column_update_num)\n",
        "\n",
        "# no need to call output_columns() and output_link_performance() \n",
        "# as the python module since outputs will be processed within DTALite\n",
        "\n",
        "print('\\npath finding results can be found in agent.csv')"
      ],
      "execution_count": 11,
      "outputs": [
        {
          "output_type": "stream",
          "text": [
            "\n",
            "DTALite run starts\n",
            "\n",
            "DTALite run completes\n",
            "\n",
            "path finding results can be found in agent.csv\n"
          ],
          "name": "stdout"
        }
      ]
    },
    {
      "cell_type": "markdown",
      "metadata": {
        "id": "8CNaiMG8bRgI"
      },
      "source": [
        "##3. Download files\n",
        "\n",
        "\n"
      ]
    },
    {
      "cell_type": "code",
      "metadata": {
        "id": "iWCCyORj8MVF",
        "colab": {
          "base_uri": "https://localhost:8080/"
        },
        "outputId": "58001f6b-6578-4895-d2d3-104738d7fa67"
      },
      "source": [
        "% cd ../\n",
        "!zip -r /content/05_Chicago_Sketch.zip /content/Path4GMNS/dataset/05_Chicago_Sketch/\n",
        "\n"
      ],
      "execution_count": 1,
      "outputs": [
        {
          "output_type": "stream",
          "text": [
            "/\n",
            "  adding: content/Path4GMNS/dataset/05_Chicago_Sketch/ (stored 0%)\n",
            "  adding: content/Path4GMNS/dataset/05_Chicago_Sketch/link_type.csv (deflated 18%)\n",
            "  adding: content/Path4GMNS/dataset/05_Chicago_Sketch/settings.csv (deflated 50%)\n",
            "  adding: content/Path4GMNS/dataset/05_Chicago_Sketch/NeXTA.log (stored 0%)\n",
            "  adding: content/Path4GMNS/dataset/05_Chicago_Sketch/demand.csv (deflated 69%)\n",
            "  adding: content/Path4GMNS/dataset/05_Chicago_Sketch/log.txt (deflated 53%)\n",
            "  adding: content/Path4GMNS/dataset/05_Chicago_Sketch/link.csv (deflated 85%)\n",
            "  adding: content/Path4GMNS/dataset/05_Chicago_Sketch/node.csv (deflated 65%)\n",
            "  adding: content/Path4GMNS/dataset/05_Chicago_Sketch/link_performance.csv (deflated 75%)\n",
            "  adding: content/Path4GMNS/dataset/05_Chicago_Sketch/agent.csv (deflated 89%)\n",
            "  adding: content/Path4GMNS/dataset/05_Chicago_Sketch/link_performance_comparison.xlsx (deflated 7%)\n"
          ],
          "name": "stdout"
        }
      ]
    },
    {
      "cell_type": "code",
      "metadata": {
        "id": "eM3VbafBup5T",
        "outputId": "dfc388d6-c9b8-4485-bbf7-f11063ef301f",
        "colab": {
          "base_uri": "https://localhost:8080/",
          "height": 17
        }
      },
      "source": [
        "from google.colab import files\n",
        "files.download(\"/content/05_Chicago_Sketch.zip\")"
      ],
      "execution_count": 2,
      "outputs": [
        {
          "output_type": "display_data",
          "data": {
            "application/javascript": [
              "\n",
              "    async function download(id, filename, size) {\n",
              "      if (!google.colab.kernel.accessAllowed) {\n",
              "        return;\n",
              "      }\n",
              "      const div = document.createElement('div');\n",
              "      const label = document.createElement('label');\n",
              "      label.textContent = `Downloading \"${filename}\": `;\n",
              "      div.appendChild(label);\n",
              "      const progress = document.createElement('progress');\n",
              "      progress.max = size;\n",
              "      div.appendChild(progress);\n",
              "      document.body.appendChild(div);\n",
              "\n",
              "      const buffers = [];\n",
              "      let downloaded = 0;\n",
              "\n",
              "      const channel = await google.colab.kernel.comms.open(id);\n",
              "      // Send a message to notify the kernel that we're ready.\n",
              "      channel.send({})\n",
              "\n",
              "      for await (const message of channel.messages) {\n",
              "        // Send a message to notify the kernel that we're ready.\n",
              "        channel.send({})\n",
              "        if (message.buffers) {\n",
              "          for (const buffer of message.buffers) {\n",
              "            buffers.push(buffer);\n",
              "            downloaded += buffer.byteLength;\n",
              "            progress.value = downloaded;\n",
              "          }\n",
              "        }\n",
              "      }\n",
              "      const blob = new Blob(buffers, {type: 'application/binary'});\n",
              "      const a = document.createElement('a');\n",
              "      a.href = window.URL.createObjectURL(blob);\n",
              "      a.download = filename;\n",
              "      div.appendChild(a);\n",
              "      a.click();\n",
              "      div.remove();\n",
              "    }\n",
              "  "
            ],
            "text/plain": [
              "<IPython.core.display.Javascript object>"
            ]
          },
          "metadata": {
            "tags": []
          }
        },
        {
          "output_type": "display_data",
          "data": {
            "application/javascript": [
              "download(\"download_915c6619-2c6d-43c0-b760-70e96c7168c9\", \"05_Chicago_Sketch.zip\", 9253120)"
            ],
            "text/plain": [
              "<IPython.core.display.Javascript object>"
            ]
          },
          "metadata": {
            "tags": []
          }
        }
      ]
    }
  ]
}