{
  "nbformat": 4,
  "nbformat_minor": 0,
  "metadata": {
    "colab": {
      "name": "path4gmns.ipynb",
      "provenance": [],
      "toc_visible": true,
      "include_colab_link": true
    },
    "kernelspec": {
      "name": "python3",
      "display_name": "Python 3"
    },
    "language_info": {
      "name": "python"
    }
  },
  "cells": [
    {
      "cell_type": "markdown",
      "metadata": {
        "id": "view-in-github",
        "colab_type": "text"
      },
      "source": [
        "<a href=\"https://colab.research.google.com/github/asu-trans-ai-lab/Path4GMNS/blob/master/Norfok_VA_Testing_path4gmns.ipynb\" target=\"_parent\"><img src=\"https://colab.research.google.com/assets/colab-badge.svg\" alt=\"Open In Colab\"/></a>"
      ]
    },
    {
      "cell_type": "markdown",
      "metadata": {
        "id": "egCYvfC1z5Ru"
      },
      "source": [
        "# **Path4GMNS**\n",
        "\n",
        "Path4GMNS is an open-source, lightweight, and fast Python path engine for networks encoded in GMNS. Besides finding the static and time-dependent shortest path for simple analyses, its main functionality is to provide an efficient and flexible framework for column(path)-based modeling/application frameworks in transportations (e.g., activity-based demand modeling)."
      ]
    },
    {
      "cell_type": "code",
      "metadata": {
        "id": "XbNt65u5aTb4",
        "outputId": "76801d8e-dac9-488b-88e4-88ac8baca0cd",
        "colab": {
          "base_uri": "https://localhost:8080/"
        }
      },
      "source": [
        "!rm -rf ./osm_test_data_set/\n",
        "!git clone https://github.com/asu-trans-ai-lab/osm_test_data_set\n",
        "%cd /content/osm_test_data_set/datasets/Norfolk_VA/"
      ],
      "execution_count": 1,
      "outputs": [
        {
          "output_type": "stream",
          "text": [
            "Cloning into 'osm_test_data_set'...\n",
            "remote: Enumerating objects: 228, done.\u001b[K\n",
            "remote: Counting objects: 100% (43/43), done.\u001b[K\n",
            "remote: Compressing objects: 100% (17/17), done.\u001b[K\n",
            "remote: Total 228 (delta 31), reused 35 (delta 26), pack-reused 185\u001b[K\n",
            "Receiving objects: 100% (228/228), 109.09 MiB | 27.92 MiB/s, done.\n",
            "Resolving deltas: 100% (74/74), done.\n",
            "Checking out files: 100% (60/60), done.\n",
            "/content/osm_test_data_set/datasets/Norfolk_VA\n"
          ],
          "name": "stdout"
        }
      ]
    },
    {
      "cell_type": "code",
      "metadata": {
        "id": "BvQ86ocf-FSA",
        "colab": {
          "base_uri": "https://localhost:8080/"
        },
        "outputId": "d5200dec-054a-40b5-ba7b-bb64c2235ab6"
      },
      "source": [
        "\"\"\"install path4gmns\"\"\"\n",
        "!pip install path4gmns --upgrade\n",
        "\"\"\"import package\"\"\"\n",
        "import path4gmns as pg \n",
        "import pandas as pd\n",
        "from time import time"
      ],
      "execution_count": 2,
      "outputs": [
        {
          "output_type": "stream",
          "text": [
            "Collecting path4gmns\n",
            "\u001b[?25l  Downloading https://files.pythonhosted.org/packages/16/11/4d50954c9a15ba8e42f4ec617fc6f164d22b763cbe76ca0de90710bfe163/path4gmns-0.7.1-py3-none-any.whl (337kB)\n",
            "\r\u001b[K     |█                               | 10kB 14.7MB/s eta 0:00:01\r\u001b[K     |██                              | 20kB 13.1MB/s eta 0:00:01\r\u001b[K     |███                             | 30kB 17.0MB/s eta 0:00:01\r\u001b[K     |███▉                            | 40kB 19.7MB/s eta 0:00:01\r\u001b[K     |████▉                           | 51kB 21.9MB/s eta 0:00:01\r\u001b[K     |█████▉                          | 61kB 24.2MB/s eta 0:00:01\r\u001b[K     |██████▉                         | 71kB 25.2MB/s eta 0:00:01\r\u001b[K     |███████▊                        | 81kB 25.6MB/s eta 0:00:01\r\u001b[K     |████████▊                       | 92kB 26.6MB/s eta 0:00:01\r\u001b[K     |█████████▊                      | 102kB 27.7MB/s eta 0:00:01\r\u001b[K     |██████████▊                     | 112kB 27.7MB/s eta 0:00:01\r\u001b[K     |███████████▋                    | 122kB 27.7MB/s eta 0:00:01\r\u001b[K     |████████████▋                   | 133kB 27.7MB/s eta 0:00:01\r\u001b[K     |█████████████▋                  | 143kB 27.7MB/s eta 0:00:01\r\u001b[K     |██████████████▋                 | 153kB 27.7MB/s eta 0:00:01\r\u001b[K     |███████████████▌                | 163kB 27.7MB/s eta 0:00:01\r\u001b[K     |████████████████▌               | 174kB 27.7MB/s eta 0:00:01\r\u001b[K     |█████████████████▌              | 184kB 27.7MB/s eta 0:00:01\r\u001b[K     |██████████████████▌             | 194kB 27.7MB/s eta 0:00:01\r\u001b[K     |███████████████████▍            | 204kB 27.7MB/s eta 0:00:01\r\u001b[K     |████████████████████▍           | 215kB 27.7MB/s eta 0:00:01\r\u001b[K     |█████████████████████▍          | 225kB 27.7MB/s eta 0:00:01\r\u001b[K     |██████████████████████▎         | 235kB 27.7MB/s eta 0:00:01\r\u001b[K     |███████████████████████▎        | 245kB 27.7MB/s eta 0:00:01\r\u001b[K     |████████████████████████▎       | 256kB 27.7MB/s eta 0:00:01\r\u001b[K     |█████████████████████████▎      | 266kB 27.7MB/s eta 0:00:01\r\u001b[K     |██████████████████████████▏     | 276kB 27.7MB/s eta 0:00:01\r\u001b[K     |███████████████████████████▏    | 286kB 27.7MB/s eta 0:00:01\r\u001b[K     |████████████████████████████▏   | 296kB 27.7MB/s eta 0:00:01\r\u001b[K     |█████████████████████████████▏  | 307kB 27.7MB/s eta 0:00:01\r\u001b[K     |██████████████████████████████  | 317kB 27.7MB/s eta 0:00:01\r\u001b[K     |███████████████████████████████ | 327kB 27.7MB/s eta 0:00:01\r\u001b[K     |████████████████████████████████| 337kB 27.7MB/s \n",
            "\u001b[?25hInstalling collected packages: path4gmns\n",
            "Successfully installed path4gmns-0.7.1\n",
            "path4gmns, version 0.7.1\n"
          ],
          "name": "stdout"
        }
      ]
    },
    {
      "cell_type": "markdown",
      "metadata": {
        "id": "Hg1eOa1Y9P2k"
      },
      "source": [
        "## 2. Path4GMNS modeling\n",
        "\n",
        "\n"
      ]
    },
    {
      "cell_type": "markdown",
      "metadata": {
        "id": "w3DHeZ7i6EF8"
      },
      "source": [
        "Mode 1: finding single-pair shortest path"
      ]
    },
    {
      "cell_type": "code",
      "metadata": {
        "id": "KOUennxk5vFT",
        "colab": {
          "base_uri": "https://localhost:8080/"
        },
        "outputId": "579017bd-fa1f-4a1e-e7b0-64435dfb25b5"
      },
      "source": [
        "import path4gmns as pg\n",
        "\n",
        "load_demand = False\n",
        "network = pg.read_network(load_demand)\n",
        "\n",
        "print('\\nshortest path (node id) from node 1 to node 2 is '\n",
        "      +network.find_shortest_path(198, 685))\n"
      ],
      "execution_count": 3,
      "outputs": [
        {
          "output_type": "stream",
          "text": [
            "Please provide settings.yml next time!\n",
            "Engine will set up one demand period and one agent type using default values for you, which might NOT reflect your case!\n",
            "\n",
            "read node.csv\n",
            "the number of nodes is 14078\n",
            "the number of zones is 0\n",
            "read link.csv\n",
            "the number of links is 26393\n",
            "\n",
            "shortest path (node id) from node 1 to node 2 is distance: 10000.00 | path: 685\n"
          ],
          "name": "stdout"
        }
      ]
    }
  ]
}